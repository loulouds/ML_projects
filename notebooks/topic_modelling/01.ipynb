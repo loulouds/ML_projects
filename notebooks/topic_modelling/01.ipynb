{
 "cells": [
  {
   "cell_type": "markdown",
   "metadata": {},
   "source": [
    "# Topic modeling of enron emails"
   ]
  },
  {
   "cell_type": "markdown",
   "metadata": {},
   "source": [
    "This notebook load a \"cleaned\" version of the [Kaggle Enron Email Dataset](https://www.kaggle.com/wcukierski/enron-email-dataset) generated in the notebook `00_gather_enron_email*` and "
   ]
  },
  {
   "cell_type": "code",
   "execution_count": 94,
   "metadata": {},
   "outputs": [],
   "source": [
    "# Import libraries\n",
    "import warnings; warnings.simplefilter('ignore')\n",
    "import os, sys, email\n",
    "import numpy as np \n",
    "import pandas as pd\n",
    "\n",
    "\n",
    "# Plotting\n",
    "import matplotlib.pyplot as plt\n",
    "%matplotlib inline\n",
    "import seaborn as sns; sns.set_style('whitegrid')\n",
    "\n",
    "import wordcloud\n",
    "\n",
    "# Network analysis\n",
    "import networkx as nx\n",
    "\n",
    "\n",
    "import gensim\n",
    "from gensim import corpora"
   ]
  },
  {
   "cell_type": "code",
   "execution_count": null,
   "metadata": {},
   "outputs": [],
   "source": []
  },
  {
   "cell_type": "markdown",
   "metadata": {},
   "source": [
    "#### Load the \"clean\" emails generated in step 00"
   ]
  },
  {
   "cell_type": "code",
   "execution_count": 95,
   "metadata": {
    "collapsed": false,
    "jupyter": {
     "outputs_hidden": false
    }
   },
   "outputs": [
    {
     "name": "stdout",
     "output_type": "stream",
     "text": [
      "(354600, 6)\n"
     ]
    },
    {
     "data": {
      "text/html": [
       "<div>\n",
       "<style scoped>\n",
       "    .dataframe tbody tr th:only-of-type {\n",
       "        vertical-align: middle;\n",
       "    }\n",
       "\n",
       "    .dataframe tbody tr th {\n",
       "        vertical-align: top;\n",
       "    }\n",
       "\n",
       "    .dataframe thead th {\n",
       "        text-align: right;\n",
       "    }\n",
       "</style>\n",
       "<table border=\"1\" class=\"dataframe\">\n",
       "  <thead>\n",
       "    <tr style=\"text-align: right;\">\n",
       "      <th></th>\n",
       "      <th>Message-ID</th>\n",
       "      <th>From</th>\n",
       "      <th>To</th>\n",
       "      <th>Date</th>\n",
       "      <th>content</th>\n",
       "      <th>clean_content</th>\n",
       "    </tr>\n",
       "  </thead>\n",
       "  <tbody>\n",
       "    <tr>\n",
       "      <th>0</th>\n",
       "      <td>&lt;18782981.1075855378110.JavaMail.evans@thyme&gt;</td>\n",
       "      <td>frozenset({'phillip.allen@enron.com'})</td>\n",
       "      <td>frozenset({'tim.belden@enron.com'})</td>\n",
       "      <td>2001-05-14 16:39:00-07:00</td>\n",
       "      <td>Here is our forecast\\n\\n</td>\n",
       "      <td>forecast</td>\n",
       "    </tr>\n",
       "    <tr>\n",
       "      <th>1</th>\n",
       "      <td>&lt;15464986.1075855378456.JavaMail.evans@thyme&gt;</td>\n",
       "      <td>frozenset({'phillip.allen@enron.com'})</td>\n",
       "      <td>frozenset({'john.lavorato@enron.com'})</td>\n",
       "      <td>2001-05-04 13:51:00-07:00</td>\n",
       "      <td>Traveling to have a business meeting takes the...</td>\n",
       "      <td>traveling business meeting take fun trip espec...</td>\n",
       "    </tr>\n",
       "    <tr>\n",
       "      <th>2</th>\n",
       "      <td>&lt;24216240.1075855687451.JavaMail.evans@thyme&gt;</td>\n",
       "      <td>frozenset({'phillip.allen@enron.com'})</td>\n",
       "      <td>frozenset({'leah.arsdall@enron.com'})</td>\n",
       "      <td>2000-10-18 03:00:00-07:00</td>\n",
       "      <td>test successful.  way to go!!!</td>\n",
       "      <td>test successful way go</td>\n",
       "    </tr>\n",
       "    <tr>\n",
       "      <th>3</th>\n",
       "      <td>&lt;13505866.1075863688222.JavaMail.evans@thyme&gt;</td>\n",
       "      <td>frozenset({'phillip.allen@enron.com'})</td>\n",
       "      <td>frozenset({'randall.gay@enron.com'})</td>\n",
       "      <td>2000-10-23 06:13:00-07:00</td>\n",
       "      <td>Randy,\\n\\n Can you send me a schedule of the s...</td>\n",
       "      <td>randy send schedule salary level everyone sche...</td>\n",
       "    </tr>\n",
       "    <tr>\n",
       "      <th>4</th>\n",
       "      <td>&lt;30922949.1075863688243.JavaMail.evans@thyme&gt;</td>\n",
       "      <td>frozenset({'phillip.allen@enron.com'})</td>\n",
       "      <td>frozenset({'greg.piper@enron.com'})</td>\n",
       "      <td>2000-08-31 05:07:00-07:00</td>\n",
       "      <td>Let's shoot for Tuesday at 11:45.</td>\n",
       "      <td>let's shoot tuesday 11:45</td>\n",
       "    </tr>\n",
       "  </tbody>\n",
       "</table>\n",
       "</div>"
      ],
      "text/plain": [
       "                                      Message-ID  \\\n",
       "0  <18782981.1075855378110.JavaMail.evans@thyme>   \n",
       "1  <15464986.1075855378456.JavaMail.evans@thyme>   \n",
       "2  <24216240.1075855687451.JavaMail.evans@thyme>   \n",
       "3  <13505866.1075863688222.JavaMail.evans@thyme>   \n",
       "4  <30922949.1075863688243.JavaMail.evans@thyme>   \n",
       "\n",
       "                                     From  \\\n",
       "0  frozenset({'phillip.allen@enron.com'})   \n",
       "1  frozenset({'phillip.allen@enron.com'})   \n",
       "2  frozenset({'phillip.allen@enron.com'})   \n",
       "3  frozenset({'phillip.allen@enron.com'})   \n",
       "4  frozenset({'phillip.allen@enron.com'})   \n",
       "\n",
       "                                       To                       Date  \\\n",
       "0     frozenset({'tim.belden@enron.com'})  2001-05-14 16:39:00-07:00   \n",
       "1  frozenset({'john.lavorato@enron.com'})  2001-05-04 13:51:00-07:00   \n",
       "2   frozenset({'leah.arsdall@enron.com'})  2000-10-18 03:00:00-07:00   \n",
       "3    frozenset({'randall.gay@enron.com'})  2000-10-23 06:13:00-07:00   \n",
       "4     frozenset({'greg.piper@enron.com'})  2000-08-31 05:07:00-07:00   \n",
       "\n",
       "                                             content  \\\n",
       "0                          Here is our forecast\\n\\n    \n",
       "1  Traveling to have a business meeting takes the...   \n",
       "2                     test successful.  way to go!!!   \n",
       "3  Randy,\\n\\n Can you send me a schedule of the s...   \n",
       "4                Let's shoot for Tuesday at 11:45.     \n",
       "\n",
       "                                       clean_content  \n",
       "0                                           forecast  \n",
       "1  traveling business meeting take fun trip espec...  \n",
       "2                             test successful way go  \n",
       "3  randy send schedule salary level everyone sche...  \n",
       "4                          let's shoot tuesday 11:45  "
      ]
     },
     "execution_count": 95,
     "metadata": {},
     "output_type": "execute_result"
    }
   ],
   "source": [
    "## Read the data into a DataFrame\n",
    "email_df = pd.read_csv('../../data/processed/clean_email.csv.zip',compression='zip')\n",
    "print(email_df.shape)\n",
    "email_df.head()\n"
   ]
  },
  {
   "cell_type": "code",
   "execution_count": 96,
   "metadata": {},
   "outputs": [
    {
     "data": {
      "text/plain": [
       "(1988, 6)"
      ]
     },
     "execution_count": 96,
     "metadata": {},
     "output_type": "execute_result"
    }
   ],
   "source": [
    "# Create a list of terms to search for\n",
    "searchfor = ['enron stock', 'sell stock', 'stock bonus', 'sell enron stock']\n",
    "\n",
    "# Filter cleaned emails on searchfor list and select the one containing the key words we are interesting in\n",
    "key_emails = email_df[email_df.clean_content.str.contains('|'.join(searchfor), na=False)]\n",
    "\n",
    "key_emails.shape"
   ]
  },
  {
   "cell_type": "markdown",
   "metadata": {},
   "source": [
    "#### Subsample the number of emails to speed up the analysis\n",
    "The purpose of this subsampling stage is to be able to run the analysis faster. In a real case, there would be no particular reasons for subsampling."
   ]
  },
  {
   "cell_type": "code",
   "execution_count": 97,
   "metadata": {},
   "outputs": [
    {
     "name": "stdout",
     "output_type": "stream",
     "text": [
      "Number of original emails without keywords: 352612  ; number of emails with keywords:  1988\n",
      "Number of subsampled emails: 17631  ; number of subsampled emails with keywords:  99\n"
     ]
    }
   ],
   "source": [
    "# Only select the emails which are not in filtered_emails\n",
    "email_df2=email_df[~email_df.index.isin(key_emails.index)]\n",
    "print(f\"Number of original emails without keywords: {email_df2.shape[0]}  ; number of emails with keywords:  {key_emails.shape[0]}\")\n",
    "\n",
    "# Subsample the dataframe to speed up the analysis, making sure the ratio of emails mentioning and not mentioning enron stock is kept constant\n",
    "kemails_len = key_emails.shape[0] # \"key\" emails\n",
    "nkemails_len = email_df2.shape[0] # \"non key\" emails\n",
    "kemails = key_emails.sample(round(kemails_len/20),random_state=42)\n",
    "nkemails = email_df2.sample(round(nkemails_len/20),random_state=42)\n",
    "\n",
    "print(f\"Number of subsampled emails: {nkemails.shape[0]}  ; number of subsampled emails with keywords:  {kemails.shape[0]}\")\n"
   ]
  },
  {
   "cell_type": "code",
   "execution_count": 98,
   "metadata": {},
   "outputs": [],
   "source": [
    "df = pd.concat([kemails,nkemails]).sort_index(ascending=True)\n",
    "df=df.reset_index()"
   ]
  },
  {
   "cell_type": "code",
   "execution_count": 99,
   "metadata": {},
   "outputs": [
    {
     "name": "stderr",
     "output_type": "stream",
     "text": [
      "[nltk_data] Downloading package stopwords to\n",
      "[nltk_data]     /Users/locupe/nltk_data...\n",
      "[nltk_data]   Package stopwords is already up-to-date!\n",
      "[nltk_data] Downloading package wordnet to /Users/locupe/nltk_data...\n",
      "[nltk_data]   Package wordnet is already up-to-date!\n"
     ]
    }
   ],
   "source": [
    "# NLP\n",
    "import nltk\n",
    "nltk.download(['stopwords','wordnet'])\n",
    "from nltk.tokenize.regexp import RegexpTokenizer\n",
    "from nltk.corpus import stopwords \n",
    "from nltk.stem.wordnet import WordNetLemmatizer\n",
    "from nltk.stem.porter import PorterStemmer\n",
    "import string\n",
    "\n",
    "def clean(text):\n",
    "    if(type(text) != str): \n",
    "       text=str(text) \n",
    "    # Define stopwords and punctuation to exclude\n",
    "    stop = set(stopwords.words('english'))\n",
    "    stop.update((\"to\", \"cc\", \"subject\", \"http\", \"from\", \"sent\", \"ect\", \"u\", \"fwd\", \"www\", \"com\", 'html','pm'))\n",
    "    exclude = string.punctuation\n",
    "    \n",
    "    # Import the lemmatizer from nltk\n",
    "    lemma = WordNetLemmatizer()\n",
    "    porter= PorterStemmer()\n",
    "    \n",
    "    # Clean the text   \n",
    "    text = text.rstrip()  # remove whitespace\n",
    "    text = text.lower() # replace with lowercase\n",
    "    punc_free = \" \".join(word.strip(exclude) for word in text.split())\n",
    "    stop_free = \" \".join([i for i in punc_free.split() if((i not in stop) and (not i.isdigit()))])\n",
    "     \n",
    "    normalized = \" \".join(lemma.lemmatize(word) for word in stop_free.split())\n",
    "#     # stem = \" \".join(porter.stem(token) for token in normalized.split())\n",
    "    \n",
    "    return normalized"
   ]
  },
  {
   "cell_type": "code",
   "execution_count": 100,
   "metadata": {},
   "outputs": [],
   "source": [
    "# Get email content \n",
    "text_clean=[]\n",
    "for text in df['content']:\n",
    "    text_clean.append(clean(text).split())"
   ]
  },
  {
   "cell_type": "markdown",
   "metadata": {},
   "source": [
    "## Topic modeling on fraud\n"
   ]
  },
  {
   "cell_type": "markdown",
   "metadata": {},
   "source": [
    "#### Latent Dirichlet Allocation (LDA)\n",
    "\n",
    "* With LDA you get:\n",
    "    * \"topics per text item\" model (i.e. probabilities)\n",
    "    * \"words per topic\" model\n",
    "* Creating your own topic model:\n",
    "    * Clean your data\n",
    "    * Create a bag of words with dictionary and corpus\n",
    "        * Dictionary contain words and word frequency from the entire text\n",
    "        * Corpus: word count for each line of text\n",
    "    * Feed dictionary and corpus into the LDA model\n",
    "* LDA:\n",
    "    * ![lda](https://raw.githubusercontent.com/trenton3983/DataCamp/master/Images/fraud_detection/lda.JPG)\n",
    "    1. [LDA2vec: Word Embeddings in Topic Models](https://www.datacamp.com/community/tutorials/lda2vec-topic-model)\n",
    "    1. see how each word in the dataset is associated with each topic\n",
    "    1. see how each text item in the data associates with topics (in the form of probabilities)\n"
   ]
  },
  {
   "cell_type": "markdown",
   "metadata": {},
   "source": [
    "### Create dictionary and corpus\n",
    "\n",
    "In order to run an LDA topic model, we need to define a **dictionary and corpus**. The main stages are:\n",
    "* use the `Dictionary` function in `corpora` to create a `dict` from the text data\n",
    "    * contains word counts\n",
    "* filter out words that appear in less than 5 emails and keep only the 50000 most frequent words\n",
    "    * this is a way of cleaning the outlier noise\n",
    "* create the corpus, which for each email, counts the number of words and the count for each word (`doc2bow`)\n",
    "* `doc2bow`\n",
    "    * Document to Bag of Words\n",
    "    * converts text data into bag-of-words format\n",
    "    * each row is now a list of words with the associated word count\n"
   ]
  },
  {
   "cell_type": "code",
   "execution_count": 101,
   "metadata": {},
   "outputs": [],
   "source": [
    "# Define the dictionary\n",
    "dictionary = corpora.Dictionary(text_clean)\n",
    "\n",
    "# Filter out (non)frequent words \n",
    "dictionary.filter_extremes(no_below=5, keep_n=50000)\n",
    "\n",
    "# Define the corpus \n",
    "corpus = [dictionary.doc2bow(text) for text in text_clean]"
   ]
  },
  {
   "cell_type": "code",
   "execution_count": 102,
   "metadata": {},
   "outputs": [
    {
     "name": "stdout",
     "output_type": "stream",
     "text": [
      "[(0, 1), (1, 1), (2, 1), (3, 1), (4, 2), (5, 1), (6, 1), (7, 1), (8, 1), (9, 1)]\n",
      "Dictionary(24141 unique tokens: ['address', 'company', 'dns', 'gate', 'ip']...)\n"
     ]
    }
   ],
   "source": [
    "# Print corpus and dictionary\n",
    "print(corpus[0][:10])\n",
    "print(dictionary)"
   ]
  },
  {
   "cell_type": "code",
   "execution_count": null,
   "metadata": {},
   "outputs": [],
   "source": []
  },
  {
   "cell_type": "markdown",
   "metadata": {},
   "source": [
    "### LDA model"
   ]
  },
  {
   "cell_type": "markdown",
   "metadata": {},
   "source": [
    "*The topic model is heavy to calculate and can take a while to run...*"
   ]
  },
  {
   "cell_type": "code",
   "execution_count": 103,
   "metadata": {},
   "outputs": [
    {
     "name": "stdout",
     "output_type": "stream",
     "text": [
      "(0, '0.009*\"energy\" + 0.008*\"enron\" + 0.007*\"gas\" + 0.007*\"market\" + 0.007*\"company\"')\n",
      "(1, '0.016*\"please\" + 0.011*\"message\" + 0.011*\"enron\" + 0.009*\"forwarded\" + 0.008*\"e-mail\"')\n",
      "(2, '0.019*\"x\" + 0.015*\"enron\" + 0.011*\"e\" + 0.009*\"pst\" + 0.009*\"mid\"')\n",
      "(3, '0.010*\"image\" + 0.007*\"new\" + 0.006*\"click\" + 0.006*\"please\" + 0.005*\"error\"')\n",
      "(4, '0.012*\"know\" + 0.011*\"would\" + 0.011*\"deal\" + 0.010*\"get\" + 0.009*\"thanks\"')\n"
     ]
    }
   ],
   "source": [
    "# Define the LDA model\n",
    "ldamodel = gensim.models.ldamodel.LdaModel(corpus, num_topics=5, id2word=dictionary, passes=5)\n",
    "\n",
    "# Save the topics and top 5 words\n",
    "topics = ldamodel.print_topics(num_words=5)\n",
    "\n",
    "# Print the results\n",
    "for topic in topics:\n",
    "    print(topic)"
   ]
  },
  {
   "cell_type": "code",
   "execution_count": null,
   "metadata": {},
   "outputs": [],
   "source": []
  },
  {
   "cell_type": "markdown",
   "metadata": {},
   "source": [
    "## Flagging fraud based on topic"
   ]
  },
  {
   "cell_type": "markdown",
   "metadata": {},
   "source": [
    "\n",
    "Things that can be done:\n",
    "1. Are there any suspicious topics? (no labels)\n",
    "    1. if you don't have labels, first check for the frequency of suspicious words within topics and check whether topics seem to describe the fraudulent behavior\n",
    "    1. for the Enron email data, a suspicious topic would be one where employees are discussing stock bonuses, selling stock, stock price, and perhaps mentions of accounting or weak financials\n",
    "    1. Defining suspicious topics does require some pre-knowledge about the fraudulent behavior\n",
    "    1. If the fraudulent topic is noticeable, flag all instances that have a high probability for this topic\n",
    "1. Are the topics in fraud and non-fraud cases similar? (with labels)\n",
    "    1. If there a previous cases of fraud, ran a topic model on the fraud text only, and on the non-fraud text\n",
    "    1. Check whether the results are similar\n",
    "        1. Whether the frequency of the topics are the same in fraud vs non-fraud\n",
    "1. Are fraud cases associated more with certain topics? (with labels)\n",
    "    1. Check whether fraud cases have a higher probability score for certain topics\n",
    "        1. If so, run a topic model on new data and create a flag directly on the instances that score high on those topics"
   ]
  },
  {
   "cell_type": "markdown",
   "metadata": {},
   "source": [
    "### Visualize LDA model results"
   ]
  },
  {
   "cell_type": "code",
   "execution_count": 104,
   "metadata": {},
   "outputs": [],
   "source": [
    "import pyLDAvis.gensim\n",
    "import warnings; warnings.simplefilter('ignore')"
   ]
  },
  {
   "cell_type": "code",
   "execution_count": 105,
   "metadata": {},
   "outputs": [],
   "source": [
    "lda_display = pyLDAvis.gensim.prepare(ldamodel, corpus, dictionary, sort_topics=False)"
   ]
  },
  {
   "cell_type": "code",
   "execution_count": 106,
   "metadata": {},
   "outputs": [
    {
     "data": {
      "text/html": [
       "\n",
       "<link rel=\"stylesheet\" type=\"text/css\" href=\"https://cdn.rawgit.com/bmabey/pyLDAvis/files/ldavis.v1.0.0.css\">\n",
       "\n",
       "\n",
       "<div id=\"ldavis_el407321404655050128649997862092\"></div>\n",
       "<script type=\"text/javascript\">\n",
       "\n",
       "var ldavis_el407321404655050128649997862092_data = {\"mdsDat\": {\"x\": [-0.08287420228877007, 0.11505039599335996, -0.22635355347726302, 0.007745382019671911, 0.18643197775300138], \"y\": [0.0682836193575883, -0.196622999978947, -0.09880360023979254, 0.20388074731144984, 0.02326223354970112], \"topics\": [1, 2, 3, 4, 5], \"cluster\": [1, 1, 1, 1, 1], \"Freq\": [28.80691923556492, 22.30950478196517, 9.24041609795382, 17.725608079715204, 21.917551804800887]}, \"tinfo\": {\"Term\": [\"x\", \"enron\", \"image\", \"know\", \"thanks\", \"e\", \"forwarded\", \"original\", \"agreement\", \"get\", \"deal\", \"business\", \"energy\", \"pst\", \"sara\", \"please\", \"mid\", \"e-mail\", \"message\", \"market\", \"would\", \"columbia\", \"mark\", \"let\", \"attached\", \"think\", \"product\", \"click\", \"i'm\", \"group\", \"utility\", \"iso\", \"clearing\", \"margin\", \"commission\", \"sc_id\", \"mkt_type\", \"trans_date\", \"trans_type\", \"epmi\", \"regulation\", \"earnings\", \"electricity\", \"generator\", \"crisis\", \"senate\", \"comex\", \"consumer\", \"long-term\", \"legislation\", \"republican\", \"insufficient\", \"deregulation\", \"regulator\", \"pjm\", \"investigation\", \"shareholder\", \"engy_type\", \"tie_point\", \"interchg_id\", \"nymex\", \"billion\", \"profit\", \"oil\", \"tariff\", \"governor\", \"electric\", \"natural\", \"generation\", \"plant\", \"revenue\", \"energy\", \"pipeline\", \"california\", \"ferc\", \"supply\", \"market\", \"power\", \"gas\", \"price\", \"stock\", \"exchange\", \"capacity\", \"company\", \"million\", \"firm\", \"state\", \"shall\", \"industry\", \"trading\", \"transaction\", \"transmission\", \"trade\", \"said\", \"future\", \"customer\", \"contract\", \"enron\", \"issue\", \"month\", \"business\", \"service\", \"would\", \"cost\", \"new\", \"rate\", \"year\", \"may\", \"information\", \"time\", \"also\", \"system\", \"day\", \"u\", \"privileged\", \"713-646-3490\", \"shackleton/hou/ect@ect\", \"communications@enron\", \"713-853-5620\", \"3801a\", \"tanya\", \"perlingiere\", \"carol.st.clair@enron.com\", \"shackleton\", \"hereby\", \"hereto\", \"sara.shackleton@enron.com\", \"713-853-7658\", \"713-646-3393\", \"enforceable\", \"sender\", \"dperlin@enron.com\", \"estoppel\", \"713-853-3989\", \"enron.messaging.administration@enron.com\", \"clair/hou/ect@ect\", \"mann/corp/enron@enron\", \"contact(s\", \"backout\", \"cheryl\", \"addressee\", \"646-3490\", \"sanders/hou/ect@ect\", \"veronica\", \"sara\", \"recipient\", \"isda\", \"alias\", \"debra\", \"sheila\", \"intended\", \"pager\", \"clair\", \"taylor/hou/ect@ect\", \"leslie\", \"confidential\", \"master\", \"outage\", \"forwarded\", \"attached\", \"carol\", \"draft\", \"kay\", \"delete\", \"fax\", \"agreement\", \"thru\", \"mary\", \"j\", \"attachment\", \"corp\", \"richard\", \"susan\", \"mark\", \"please\", \"e-mail\", \"copy\", \"smith\", \"document\", \"message\", \"thanks\", \"original\", \"phone\", \"letter\", \"enron\", \"david\", \"legal\", \"john\", \"meeting\", \"may\", \"information\", \"call\", \"review\", \"houston\", \"know\", \"let\", \"tr\", \"border=\\\"0\", \"1-6\", \"synchronizing\", \"img\", \"align=\\\"right\\\"><font\", \"pget\", \"enw\", \"class=td2\", \"face=\\\"arial\", \"cellspacing=\\\"0\", \"tr><td\", \"width=\\\"1\", \"edmund\", \"helvetica\", \"eesi\", \"pst\", \"td>&nbsp;</td\", \"font\", \"cellpadding=\\\"0\", \"width=\\\"100\", \"gtc's\", \"height=\\\"1\", \"align=\\\"left\\\"><font\", \"arial\", \"pwx\", \"eel\", \"sans-serif\", \"valign=\\\"top\", \"esmtp\", \"x\", \"mid\", \"br\", \"origination\", \"folder\", \"organizational\", \"wesco\", \"avista\", \"ew\", \"td\", \"columbia\", \"23-24\", \"hourahead\", \"parsing\", \"scheduling\\\\iso\", \"o:\\\\portland\\\\westdesk\\\\california\", \"enrononline\", \"enron=01,s\", \"e\", \"detected\", \"table\", \"global\", \"eol\", \"product\", \"group\", \"business\", \"log\", \"enron\", \"request\", \"metal\", \"team\", \"date\", \"schedule\", \"management\", \"process\", \"report\", \"trading\", \"id\", \"ena\", \"risk\", \"new\", \"final\", \"mark\", \"please\", \"message\", \"service\", \"fare\", \"to/from\", \"airline\", \"image\", \"borland\", \"initialize\", \"2a04\", \"dbcaps97data\", \"wr\", \"cruise\", \"hotel\", \"rb\", \"qb\", \"destination\", \"travel\", \"airport\", \"fantasy\", \"travelocity\", \"miami\", \"roundtrip\", \"carr\", \"hilton\", \"featured\", \"traveler\", \"trademark\", \"sheraton\", \"dfw\", \"depart\", \"co.o.l\", \"atlanta\", \"subscription\", \"engine\", \"rental\", \"09=09\", \"fl\", \"subscriber\", \"newsletter\", \"attempting\", \"il\", \"flight\", \"database\", \"unsubscribe\", \"occurred\", \"click\", \"usa\", \"web\", \"error\", \"online\", \"gift\", \"reservation\", \"special\", \"card\", \"tx\", \"free\", \"visit\", \"game\", \"offer\", \"news\", \"new\", \"way\", \"site\", \"email\", \"internet\", \"link\", \"city\", \"available\", \"information\", \"please\", \"e-mail\", \"houston\", \"service\", \"may\", \"address\", \"day\", \"receive\", \"time\", \"symes/pdx/ect@ect\", \"symes\", \"pretty\", \"dad\", \"kerri\", \"maggi\", \"beer\", \"metoyer@enron\", \"prebon\", \"thompson@enron\", \"glad\", \"hey\", \"temptation\", \"wharton\", \"anyway\", \"lately\", \"hang\", \"kate.symes@enron.com\", \"wedding\", \"crazy\", \"eat\", \"hell\", \"sick\", \"wife\", \"afraid\", \"how's\", \"cow\", \"maybe\", \"semperger\", \"mmbtu/d\", \"really\", \"tonight\", \"evelyn\", \"kate\", \"nice\", \"amerex\", \"guess\", \"guy\", \"i'm\", \"thinking\", \"got\", \"swerzbin\", \"mom\", \"going\", \"went\", \"something\", \"thing\", \"lot\", \"think\", \"talk\", \"i'd\", \"probably\", \"i'll\", \"deal\", \"wanted\", \"good\", \"i've\", \"get\", \"know\", \"like\", \"getting\", \"want\", \"back\", \"thought\", \"hope\", \"let\", \"sure\", \"would\", \"go\", \"thanks\", \"still\", \"need\", \"one\", \"work\", \"could\", \"original\", \"week\", \"time\", \"look\", \"message\", \"see\", \"day\", \"well\", \"make\", \"u\", \"call\", \"also\"], \"Freq\": [3809.0, 14653.0, 4043.0, 7744.0, 7944.0, 4070.0, 4849.0, 6485.0, 5116.0, 6248.0, 6364.0, 4925.0, 6222.0, 1801.0, 2987.0, 13617.0, 1790.0, 6334.0, 10229.0, 5159.0, 9687.0, 1738.0, 5130.0, 4966.0, 3672.0, 3434.0, 2841.0, 3000.0, 2841.0, 3857.0, 1250.9883831932543, 784.0096748661531, 638.5441876143107, 524.8312350514457, 797.3541984735555, 448.8115341449499, 448.5197608656086, 448.5197608656086, 448.5197608656086, 445.70360703892396, 449.3531050134768, 382.9318819800586, 982.5736389580641, 351.4637757427487, 295.86126352799323, 291.275189852617, 246.24322509149607, 525.2035076420917, 221.12949651616572, 220.56915961293228, 215.79153283182362, 276.7740027831461, 188.70140293982223, 185.9213489411543, 179.05595489377075, 222.6424208445514, 172.41986636636295, 167.51535768718955, 167.51535768718955, 167.51535768718955, 778.3303603156716, 656.4942854145633, 471.9870728695821, 969.1644808671323, 374.53318170749463, 277.1819528742176, 870.8094527977474, 1437.986961285185, 752.623977595343, 1057.1203346745813, 382.2429371442571, 5553.591078637507, 1087.5177853818827, 1538.0057397192368, 834.8380858170833, 738.462195012678, 4348.828690478233, 4339.593597954316, 4604.425168008847, 4054.012302135113, 1323.4095592292533, 1104.881765933767, 983.0442220671238, 4348.187340125757, 1390.1924048531907, 1347.9678719358917, 1791.4892572246558, 1081.085258753454, 1133.3646404113415, 2515.1530934401812, 1918.9897366760679, 889.5735044008094, 1982.2533815683853, 2024.8933379389139, 1648.1862341365309, 1717.5187632391476, 2376.404891785681, 5003.938255531456, 1999.7052797075248, 1577.9137139882223, 2240.2632225760544, 2274.0288643580025, 2920.3266927544264, 1268.31630064126, 2551.5102842185497, 1431.7149191414287, 1698.8073740505067, 2136.5541089255835, 1839.7485943518477, 1879.4678065496169, 1634.0832836235327, 1495.5930323169355, 1585.6472299425095, 1522.189387806497, 839.9814714239795, 603.9172615502606, 559.3496592982125, 559.0443736971522, 344.5110750266637, 340.89178823250245, 366.48023346547615, 309.6547630321559, 296.60523985689156, 830.9230156816933, 266.40369426930846, 245.47593116945853, 574.3967639413426, 237.0904888257833, 237.1705359959141, 232.96380052559292, 880.7086297331944, 213.99502446835817, 214.6516558559564, 226.36000142302257, 211.24271863375725, 193.7538553404848, 348.0662273853498, 181.5438249066492, 178.68291714661055, 472.3153339425344, 231.229326668628, 157.0318427549621, 154.034503559458, 149.80936676773882, 2951.677752725065, 1604.7745179139706, 1218.9605251493733, 598.019055001883, 463.8753559979617, 468.39764426721746, 2191.78838819822, 411.6936168669257, 383.81134880027264, 648.7533467605731, 407.4124513222637, 1206.530674293459, 1370.5940117787857, 1068.6308873270234, 4336.5148992037375, 3279.484068369248, 1077.595942853744, 1572.8793112919977, 1889.9581400580057, 882.8154814897944, 2705.7050427598438, 4029.6061138856094, 583.5770040085533, 950.1798465877029, 1861.7851766188508, 979.1639470999193, 2837.0550969482492, 1284.9205309768186, 1427.637653056687, 3557.678828828939, 7588.366838025181, 4044.0805307270857, 2032.5641147437116, 1314.53374621751, 1666.9112581573527, 5175.221531631823, 3830.1674163137914, 3312.1620848369057, 1791.7105556920396, 1516.437595154849, 5173.6565945242455, 1696.9226472768262, 1715.4129320957304, 1971.9390700721158, 1814.520799567796, 2289.9114010221106, 2091.3043180371196, 1940.7932266900104, 1573.4545019008892, 1718.8633931652882, 1880.424833524281, 1686.8514647148497, 1102.7995860307287, 420.24557741910104, 360.6936241763886, 315.9906555711659, 300.06123031226593, 298.29874962131197, 393.3027682468049, 256.9373037997221, 268.64410728985007, 219.70555888489582, 216.61933287122318, 216.05452764177926, 197.3494568112516, 201.3196914770153, 190.72339124012382, 195.24853591168957, 1792.4586950580035, 165.97244478466973, 692.4449914433608, 146.87733722225855, 142.0178046717666, 142.65485681382427, 136.66581982469785, 132.3691723590622, 131.63181327734918, 132.37634639620254, 126.14624291111524, 122.42157471206382, 120.20284175102286, 116.9501992797447, 3745.437896514797, 1764.9978473679996, 740.51301932845, 469.8420403959579, 489.0030572158408, 184.33241969068735, 179.17903433811645, 451.4556782268953, 400.1516766103531, 1175.6640548399682, 1620.09011907157, 361.09671317945686, 575.0344875638472, 398.52273431845174, 398.52273431845174, 398.52273431845174, 583.6396567634887, 282.53985204984014, 2161.9280632415744, 461.8977778953677, 827.7346094800099, 898.2060362517459, 714.5130364887733, 1363.9914590355522, 1550.3497137264048, 1759.2825546729084, 522.7614137119783, 3045.3909701887424, 1064.424872105098, 578.6872386910728, 877.4711134314554, 1148.9256527160455, 999.900945943249, 836.9325496959118, 775.2473747164635, 898.3806633889685, 932.4795098186113, 556.6720624119754, 696.8781929952542, 707.1222939506641, 971.3780109156846, 710.0199452737903, 808.0058895437594, 890.507740738825, 814.0032432327563, 724.0615503422728, 1374.1446779086846, 827.8540889717596, 748.2077118131615, 4038.842309100244, 569.4282031495975, 568.0034453812453, 567.6879875153263, 1068.2666979264304, 445.5655250724843, 351.6165006874387, 979.262204422446, 317.3891188598064, 276.8866563944381, 301.88133671592834, 1450.025762634143, 436.64195419712826, 333.4052943466247, 225.39132340071907, 223.4376991643175, 217.09966253700773, 249.9315952533149, 196.7613979253417, 201.0422922300196, 181.2529830579504, 172.5732819024366, 164.68116334010887, 163.56698242771597, 163.02627499106043, 148.18712341986713, 175.83465525176564, 554.0573152572766, 680.2438964096847, 350.62558787379857, 1403.4284779405257, 236.74120817145197, 298.2521024354176, 538.4543082246463, 610.0593118635817, 339.2295820783994, 582.6637847681251, 1863.0863826576253, 846.7080746102862, 611.5745490943364, 2491.5883646815487, 692.8815543081392, 1367.353927607605, 1985.9124788417987, 1494.143313490046, 539.0606381285388, 629.9639800904873, 1219.2320876959502, 657.1926941511148, 1031.8125134855272, 1894.124905770007, 1213.7763840079438, 988.9122322801492, 1483.3355823811419, 1255.6022102986572, 2615.428807046623, 1401.5138565892655, 1106.8659958555832, 1772.2648880015765, 861.0268788835913, 900.82066841679, 859.1213868287376, 1248.125406931009, 1729.8857901930148, 2415.019238329908, 1749.559152781271, 1467.1776316328067, 1513.3169148918646, 1546.0548429719095, 1071.5380592683623, 1160.0104322976574, 1010.1018715735033, 1059.6681661587663, 661.047198506333, 378.2811463614304, 442.2373076168838, 249.8833435020079, 211.91102653316534, 215.01019337151413, 168.5139172233651, 159.71521109344258, 319.86041108376617, 137.31035587740413, 241.6414379271959, 508.8678438983992, 110.00829623066255, 112.83884923704271, 459.0185540649221, 97.56926285836452, 96.48070415173235, 93.05247943169252, 91.03559847475336, 88.1347660757629, 91.78257460523567, 85.49146179200592, 85.42745522461816, 185.28268787424588, 85.62698415519371, 81.25110179485134, 79.87149936561622, 591.3908972210328, 80.81176652809532, 78.71277303163383, 1110.7529960982065, 360.3951003174031, 255.81344055448966, 1963.4699597384597, 311.2031019785149, 199.72836171152733, 331.1941908137061, 974.1216421171637, 2667.628427901913, 353.4799601451187, 1028.5623885417103, 148.2744580389391, 207.65933633276913, 2495.36709136102, 490.04880940445616, 850.9175988354353, 1427.7738151601827, 730.3137743296994, 3006.394743028027, 1142.1041574407736, 473.9014675703329, 778.6144726606855, 1368.2100845088937, 5099.382086177545, 869.7868718137889, 2498.6451664394576, 974.09235961902, 4812.301839110541, 5663.134105169897, 3666.2215207768077, 897.2681610257422, 2622.937076880271, 2159.1977538183555, 1179.0251405199228, 1330.1560252229528, 3181.8145658190615, 1324.6105683130706, 5339.101133689879, 2256.168869960705, 4087.779964089222, 1506.78481283238, 3305.3708373179634, 3000.64464392692, 2175.858601139962, 2089.272936495689, 3144.2272382592564, 2397.776795677772, 3070.7547680508155, 1755.8296654118783, 3329.0297546348406, 2159.351542816239, 2373.0766731978965, 1706.4319910531096, 1853.1511656446098, 1955.5518381221282, 1900.800719570312, 1861.6919315249022], \"Total\": [3809.0, 14653.0, 4043.0, 7744.0, 7944.0, 4070.0, 4849.0, 6485.0, 5116.0, 6248.0, 6364.0, 4925.0, 6222.0, 1801.0, 2987.0, 13617.0, 1790.0, 6334.0, 10229.0, 5159.0, 9687.0, 1738.0, 5130.0, 4966.0, 3672.0, 3434.0, 2841.0, 3000.0, 2841.0, 3857.0, 1252.123036019022, 785.0202729807048, 639.4784544167837, 525.7157925458423, 798.7141134820838, 449.6320639900388, 449.3402898852349, 449.3402898852349, 449.3402898852349, 446.5387608078587, 450.1986352939822, 383.84050345058495, 984.9165397684391, 352.324874108, 296.69962463146993, 292.216635010182, 247.07151193130355, 527.166385039797, 221.96117712611323, 221.41595213746095, 216.65379754648933, 277.88908446615324, 189.52520000058297, 186.74659833757798, 179.88368831818548, 223.6817221887445, 173.24751721250803, 168.33592036075402, 168.33592036075402, 168.33592036075402, 783.5140021166351, 661.6928412705347, 474.38772506012543, 985.4110231668656, 377.39993700762886, 278.67229505566144, 895.8462507026437, 1510.94833126376, 776.2670589717371, 1109.6909765859766, 389.09267334881616, 6222.81656507859, 1156.7372861068588, 1667.5352900652967, 881.8450713944407, 779.3507386273001, 5159.947911111451, 5215.097906510102, 5662.082858390876, 4960.5474160376525, 1475.768951185903, 1222.4638079025913, 1083.4127357084144, 5790.881605510718, 1658.4516180550515, 1603.1233896109977, 2234.2307000709097, 1270.28055882894, 1351.2284784869082, 3867.5833792187595, 2902.5244890423437, 1008.7796015581531, 3091.929611499316, 3223.268651892663, 2423.62622155091, 2593.654007903928, 4252.570428883043, 14653.964333488051, 3533.5653370356767, 2389.370766384, 4925.632186596097, 5142.850473877115, 9687.883453553546, 1717.2768922548291, 8146.61265833823, 2301.436058320148, 3586.0974613421467, 7454.705317234162, 6132.3219363674825, 7030.563553508736, 5224.224316907707, 3120.0467604486867, 5346.65030270282, 5652.165203796452, 840.8184023677735, 604.747652222541, 560.2236222776152, 559.9939718255164, 345.35750143520806, 341.738272322541, 367.3939430598328, 310.51845401703554, 297.46010057631304, 833.5159143751159, 267.2432343239015, 246.3098747928191, 576.3977837640424, 237.92145331259132, 238.01031883797128, 233.80044213651624, 884.1203330776841, 214.825557684864, 215.48535251442743, 227.2423635289666, 212.07607570881993, 194.59109092069122, 349.6151191317806, 182.37198998138751, 179.51103560336935, 474.7241925742755, 232.43783736546192, 157.87342321126005, 154.873529773247, 150.63995890868338, 2987.60149690534, 1622.1712521524355, 1234.5947737386189, 602.7987323507142, 469.0414222659313, 474.319819694375, 2288.93487837467, 416.9567239842792, 389.24764813569396, 667.7780733312259, 414.4574461793345, 1271.4480998766676, 1454.5060787881976, 1124.0029186915776, 4849.9042794136185, 3672.195920305225, 1155.6106411297212, 1722.6692888386663, 2108.907533133913, 939.5302355322116, 3205.128562681607, 5116.648070621799, 614.6216784668826, 1051.4988952379977, 2265.6057711750327, 1101.7257297116487, 3718.752785608981, 1500.619165909951, 1699.1388229095385, 5130.215577447095, 13617.005884006834, 6334.938221902728, 2715.3075260367937, 1596.8598237186347, 2215.903536240774, 10229.547032413437, 7944.66307637263, 6485.179681722384, 2639.742857699108, 2102.874650286949, 14653.964333488051, 2531.010572858098, 2632.148610185888, 3604.589492373898, 3322.3569935970604, 7454.705317234162, 6132.3219363674825, 5210.284834528095, 2760.346280933376, 4557.629992532239, 7744.772394591015, 4966.106499902071, 1103.6531526707113, 421.07313540749345, 361.5413264406089, 316.8168528587639, 300.8892256861226, 299.1266246643339, 394.41206983285514, 257.7682304896287, 269.56209434921465, 220.5361137197728, 217.44634254138316, 216.88172794716687, 198.1766910471703, 202.1875402300595, 191.55015830149912, 196.12865413238703, 1801.378429143884, 166.81749915032788, 696.3411605627111, 147.70433822097195, 142.84458491682898, 143.5074014472149, 137.49256660181715, 133.19687701183116, 132.45957746113893, 133.21340630299537, 126.97667258435918, 123.24821936682278, 121.03008896814731, 117.7832572740585, 3809.1815029011273, 1790.4224409925382, 747.1167660390962, 476.1298696628932, 497.5727143283455, 185.80910681740997, 180.60753717153418, 460.78571951651725, 408.33882174748845, 1234.0504367118006, 1738.3351840140342, 384.22431541124996, 634.0136116621733, 437.06811473277014, 437.06811473277014, 437.06811473277014, 704.8164343243827, 302.7994237480734, 4070.6041435735065, 569.866944519665, 1203.9987399682714, 1394.3736516750944, 1074.1043057251743, 2841.94716543621, 3857.6310088499627, 4925.632186596097, 730.8729322074449, 14653.964333488051, 2680.374737098766, 895.1356090048231, 2059.6209449844932, 3562.013622124986, 2702.5346670819395, 1970.8698380686603, 1736.8652555178282, 3216.864000153969, 3867.5833792187595, 886.647108261335, 1848.2756234420158, 2038.2208289455893, 8146.61265833823, 2301.4171036231337, 5130.215577447095, 13617.005884006834, 10229.547032413437, 5142.850473877115, 1374.9470274792611, 828.6529430179025, 749.0230134479992, 4043.2862616274037, 570.2269095294107, 568.8017283573095, 568.4860564548061, 1070.1109127460481, 446.4013960924071, 352.4205066203913, 981.5501113017884, 318.1982093666688, 277.6900259145873, 302.7631708913167, 1454.8141568566966, 438.15614818562113, 334.5633549566893, 226.1897789895443, 224.24264266510517, 217.89941245360865, 250.88283772869198, 197.57486281254543, 201.96738435296936, 182.08881014812187, 173.38241690800672, 165.48069268047465, 164.36536162801698, 163.87335035746085, 148.98536597645727, 176.81957320214738, 558.9045816423319, 687.6553441249711, 353.3024130992389, 1435.3631605963024, 238.13924321858843, 301.9379042561749, 551.8275741477123, 632.6049684755237, 345.9637430868209, 609.3424770801095, 2057.8901401597686, 922.062691608033, 657.3039411244953, 3000.8073741311496, 752.0982790742682, 1653.4783348654375, 2548.141735631878, 1872.8949762880509, 586.8457939988289, 703.9276684717767, 1545.5336813415154, 741.2405835179096, 1294.8787569846015, 2742.8832634656283, 1639.5295117809533, 1272.7607768132782, 2394.089842524667, 1946.8179657536498, 8146.61265833823, 2787.043994152141, 1849.4997921632662, 4437.058805562956, 1213.8617981768627, 1323.9277530202096, 1251.930234602469, 2703.703236532811, 6132.3219363674825, 13617.005884006834, 6334.938221902728, 4557.629992532239, 5142.850473877115, 7454.705317234162, 2257.433754079152, 5346.65030270282, 1833.5480095839973, 7030.563553508736, 661.8848956155422, 379.12194646337724, 443.716780369989, 250.77599738428964, 212.75381327936705, 215.94142145399573, 169.36341002492338, 160.54020256393062, 321.60568261017903, 138.13482303909547, 243.13075291410212, 512.4822481391552, 110.84794941752668, 113.70524203324432, 462.90002554617195, 98.40335581291153, 97.31666553620234, 93.88457742365834, 91.86076377878332, 88.97013593970046, 92.66558532365234, 86.3196357656756, 86.2656448488141, 187.10363591197694, 86.48099076693211, 82.08039309658741, 80.70816055743614, 597.6523548793953, 81.66853605186081, 79.55168992923815, 1135.1677725331933, 364.321377448113, 259.23698731189984, 2034.1277310417054, 316.56682655446764, 202.37164071663838, 338.06074156490575, 1010.4069195372625, 2841.5334055750695, 362.37666005872427, 1081.8049898252611, 150.47132229124725, 212.4945209672316, 2708.3524935356163, 511.8369258944171, 904.5129304610375, 1542.5459027993256, 783.2234714741691, 3434.7136061260508, 1251.592943663678, 499.60090019481004, 845.8120237875689, 1543.6713068085162, 6364.338361557084, 956.0149454604114, 2986.532233254284, 1087.6653843017239, 6248.408346714237, 7744.772394591015, 4922.447106013378, 1028.387355106679, 3518.961771246731, 2858.5001762374195, 1431.7498939312377, 1685.4273289356258, 4966.106499902071, 1695.6624686258347, 9687.883453553546, 3385.2465385814435, 7944.66307637263, 2082.270711317028, 6276.216845643386, 5578.103414605348, 3593.766409111814, 3471.2932266775697, 6485.179681722384, 4474.243552493315, 7030.563553508736, 2789.648476479878, 10229.547032413437, 4426.451121033869, 5346.65030270282, 2865.997383687768, 3545.58441130118, 5652.165203796452, 5210.284834528095, 5224.224316907707], \"Category\": [\"Default\", \"Default\", \"Default\", \"Default\", \"Default\", \"Default\", \"Default\", \"Default\", \"Default\", \"Default\", \"Default\", \"Default\", \"Default\", \"Default\", \"Default\", \"Default\", \"Default\", \"Default\", \"Default\", \"Default\", \"Default\", \"Default\", \"Default\", \"Default\", \"Default\", \"Default\", \"Default\", \"Default\", \"Default\", \"Default\", \"Topic1\", \"Topic1\", \"Topic1\", \"Topic1\", \"Topic1\", \"Topic1\", \"Topic1\", \"Topic1\", \"Topic1\", \"Topic1\", \"Topic1\", \"Topic1\", \"Topic1\", \"Topic1\", \"Topic1\", \"Topic1\", \"Topic1\", \"Topic1\", \"Topic1\", \"Topic1\", \"Topic1\", \"Topic1\", \"Topic1\", \"Topic1\", \"Topic1\", \"Topic1\", \"Topic1\", \"Topic1\", \"Topic1\", \"Topic1\", \"Topic1\", \"Topic1\", \"Topic1\", \"Topic1\", \"Topic1\", \"Topic1\", \"Topic1\", \"Topic1\", \"Topic1\", \"Topic1\", \"Topic1\", \"Topic1\", \"Topic1\", \"Topic1\", \"Topic1\", \"Topic1\", \"Topic1\", \"Topic1\", \"Topic1\", \"Topic1\", \"Topic1\", \"Topic1\", \"Topic1\", \"Topic1\", \"Topic1\", \"Topic1\", \"Topic1\", \"Topic1\", \"Topic1\", \"Topic1\", \"Topic1\", \"Topic1\", \"Topic1\", \"Topic1\", \"Topic1\", \"Topic1\", \"Topic1\", \"Topic1\", \"Topic1\", \"Topic1\", \"Topic1\", \"Topic1\", \"Topic1\", \"Topic1\", \"Topic1\", \"Topic1\", \"Topic1\", \"Topic1\", \"Topic1\", \"Topic1\", \"Topic1\", \"Topic1\", \"Topic1\", \"Topic1\", \"Topic2\", \"Topic2\", \"Topic2\", \"Topic2\", \"Topic2\", \"Topic2\", \"Topic2\", \"Topic2\", \"Topic2\", \"Topic2\", \"Topic2\", \"Topic2\", \"Topic2\", \"Topic2\", \"Topic2\", \"Topic2\", \"Topic2\", \"Topic2\", \"Topic2\", \"Topic2\", \"Topic2\", \"Topic2\", \"Topic2\", \"Topic2\", \"Topic2\", \"Topic2\", \"Topic2\", \"Topic2\", \"Topic2\", \"Topic2\", \"Topic2\", \"Topic2\", \"Topic2\", \"Topic2\", \"Topic2\", \"Topic2\", \"Topic2\", \"Topic2\", \"Topic2\", \"Topic2\", \"Topic2\", \"Topic2\", \"Topic2\", \"Topic2\", \"Topic2\", \"Topic2\", \"Topic2\", \"Topic2\", \"Topic2\", \"Topic2\", \"Topic2\", \"Topic2\", \"Topic2\", \"Topic2\", \"Topic2\", \"Topic2\", \"Topic2\", \"Topic2\", \"Topic2\", \"Topic2\", \"Topic2\", \"Topic2\", \"Topic2\", \"Topic2\", \"Topic2\", \"Topic2\", \"Topic2\", \"Topic2\", \"Topic2\", \"Topic2\", \"Topic2\", \"Topic2\", \"Topic2\", \"Topic2\", \"Topic2\", \"Topic2\", \"Topic2\", \"Topic2\", \"Topic2\", \"Topic2\", \"Topic2\", \"Topic2\", \"Topic3\", \"Topic3\", \"Topic3\", \"Topic3\", \"Topic3\", \"Topic3\", \"Topic3\", \"Topic3\", \"Topic3\", \"Topic3\", \"Topic3\", \"Topic3\", \"Topic3\", \"Topic3\", \"Topic3\", \"Topic3\", \"Topic3\", \"Topic3\", \"Topic3\", \"Topic3\", \"Topic3\", \"Topic3\", \"Topic3\", \"Topic3\", \"Topic3\", \"Topic3\", \"Topic3\", \"Topic3\", \"Topic3\", \"Topic3\", \"Topic3\", \"Topic3\", \"Topic3\", \"Topic3\", \"Topic3\", \"Topic3\", \"Topic3\", \"Topic3\", \"Topic3\", \"Topic3\", \"Topic3\", \"Topic3\", \"Topic3\", \"Topic3\", \"Topic3\", \"Topic3\", \"Topic3\", \"Topic3\", \"Topic3\", \"Topic3\", \"Topic3\", \"Topic3\", \"Topic3\", \"Topic3\", \"Topic3\", \"Topic3\", \"Topic3\", \"Topic3\", \"Topic3\", \"Topic3\", \"Topic3\", \"Topic3\", \"Topic3\", \"Topic3\", \"Topic3\", \"Topic3\", \"Topic3\", \"Topic3\", \"Topic3\", \"Topic3\", \"Topic3\", \"Topic3\", \"Topic3\", \"Topic3\", \"Topic3\", \"Topic3\", \"Topic4\", \"Topic4\", \"Topic4\", \"Topic4\", \"Topic4\", \"Topic4\", \"Topic4\", \"Topic4\", \"Topic4\", \"Topic4\", \"Topic4\", \"Topic4\", \"Topic4\", \"Topic4\", \"Topic4\", \"Topic4\", \"Topic4\", \"Topic4\", \"Topic4\", \"Topic4\", \"Topic4\", \"Topic4\", \"Topic4\", \"Topic4\", \"Topic4\", \"Topic4\", \"Topic4\", \"Topic4\", \"Topic4\", \"Topic4\", \"Topic4\", \"Topic4\", \"Topic4\", \"Topic4\", \"Topic4\", \"Topic4\", \"Topic4\", \"Topic4\", \"Topic4\", \"Topic4\", \"Topic4\", \"Topic4\", \"Topic4\", \"Topic4\", \"Topic4\", \"Topic4\", \"Topic4\", \"Topic4\", \"Topic4\", \"Topic4\", \"Topic4\", \"Topic4\", \"Topic4\", \"Topic4\", \"Topic4\", \"Topic4\", \"Topic4\", \"Topic4\", \"Topic4\", \"Topic4\", \"Topic4\", \"Topic4\", \"Topic4\", \"Topic4\", \"Topic4\", \"Topic4\", \"Topic4\", \"Topic4\", \"Topic4\", \"Topic4\", \"Topic4\", \"Topic4\", \"Topic4\", \"Topic4\", \"Topic4\", \"Topic4\", \"Topic5\", \"Topic5\", \"Topic5\", \"Topic5\", \"Topic5\", \"Topic5\", \"Topic5\", \"Topic5\", \"Topic5\", \"Topic5\", \"Topic5\", \"Topic5\", \"Topic5\", \"Topic5\", \"Topic5\", \"Topic5\", \"Topic5\", \"Topic5\", \"Topic5\", \"Topic5\", \"Topic5\", \"Topic5\", \"Topic5\", \"Topic5\", \"Topic5\", \"Topic5\", \"Topic5\", \"Topic5\", \"Topic5\", \"Topic5\", \"Topic5\", \"Topic5\", \"Topic5\", \"Topic5\", \"Topic5\", \"Topic5\", \"Topic5\", \"Topic5\", \"Topic5\", \"Topic5\", \"Topic5\", \"Topic5\", \"Topic5\", \"Topic5\", \"Topic5\", \"Topic5\", \"Topic5\", \"Topic5\", \"Topic5\", \"Topic5\", \"Topic5\", \"Topic5\", \"Topic5\", \"Topic5\", \"Topic5\", \"Topic5\", \"Topic5\", \"Topic5\", \"Topic5\", \"Topic5\", \"Topic5\", \"Topic5\", \"Topic5\", \"Topic5\", \"Topic5\", \"Topic5\", \"Topic5\", \"Topic5\", \"Topic5\", \"Topic5\", \"Topic5\", \"Topic5\", \"Topic5\", \"Topic5\", \"Topic5\", \"Topic5\", \"Topic5\", \"Topic5\", \"Topic5\", \"Topic5\", \"Topic5\", \"Topic5\", \"Topic5\", \"Topic5\", \"Topic5\", \"Topic5\", \"Topic5\"], \"logprob\": [30.0, 29.0, 28.0, 27.0, 26.0, 25.0, 24.0, 23.0, 22.0, 21.0, 20.0, 19.0, 18.0, 17.0, 16.0, 15.0, 14.0, 13.0, 12.0, 11.0, 10.0, 9.0, 8.0, 7.0, 6.0, 5.0, 4.0, 3.0, 2.0, 1.0, -6.223199844360352, -6.690499782562256, -6.895699977874756, -7.091899871826172, -6.673600196838379, -7.248300075531006, -7.249000072479248, -7.249000072479248, -7.249000072479248, -7.255300045013428, -7.247099876403809, -7.407100200653076, -6.464799880981445, -7.492800235748291, -7.664999961853027, -7.680699825286865, -7.848599910736084, -7.091100215911865, -7.956200122833252, -7.958700180053711, -7.980599880218506, -7.7316999435424805, -8.114800453186035, -8.129599571228027, -8.167200088500977, -7.949399948120117, -8.204999923706055, -8.23390007019043, -8.23390007019043, -8.23390007019043, -6.697800159454346, -6.868000030517578, -7.197999954223633, -6.478499889373779, -7.429200172424316, -7.730299949645996, -6.5854997634887695, -6.083899974822998, -6.731400012969971, -6.391600131988525, -7.408899784088135, -4.732699871063232, -6.36329984664917, -6.01669979095459, -6.627699851989746, -6.750400066375732, -4.97730016708374, -4.979400157928467, -4.920199871063232, -5.047500133514404, -6.166999816894531, -6.347400188446045, -6.464300155639648, -4.977399826049805, -6.117700099945068, -6.148600101470947, -5.864099979400635, -6.369200229644775, -6.322000026702881, -5.524799823760986, -5.795400142669678, -6.564199924468994, -5.762899875640869, -5.741700172424316, -5.947500228881836, -5.906300067901611, -5.581600189208984, -4.836900234222412, -5.754199981689453, -5.991099834442139, -5.640600204467773, -5.6255998611450195, -5.375500202178955, -6.209499835968018, -5.510499954223633, -6.0883002281188965, -5.917200088500977, -5.688000202178955, -5.837500095367432, -5.816199779510498, -5.956099987030029, -6.044600009918213, -5.986199855804443, -6.0269999504089355, -6.365900039672852, -6.695899963378906, -6.772600173950195, -6.773099899291992, -7.257199764251709, -7.2677998542785645, -7.195400238037109, -7.363900184631348, -7.406899929046631, -6.376800060272217, -7.5142998695373535, -7.596099853515625, -6.745999813079834, -7.630899906158447, -7.630499839782715, -7.648399829864502, -6.318600177764893, -7.733399868011475, -7.730299949645996, -7.677199840545654, -7.746300220489502, -7.832699775695801, -7.2469000816345215, -7.897799968719482, -7.913700103759766, -6.941699981689453, -7.655900001525879, -8.042900085449219, -8.062100410461426, -8.09000015258789, -5.1092000007629395, -5.718599796295166, -5.993599891662598, -6.705699920654297, -6.959700107574463, -6.949999809265137, -5.406899929046631, -7.078999996185303, -7.149199962615967, -6.624300003051758, -7.0894999504089355, -6.003799915313721, -5.876299858093262, -6.125199794769287, -4.7245001792907715, -5.003900051116943, -6.116799831390381, -5.738699913024902, -5.554999828338623, -6.316199779510498, -5.196199893951416, -4.797900199890137, -6.730100154876709, -6.242700099945068, -5.570000171661377, -6.212600231170654, -5.148799896240234, -5.940899848937988, -5.8354997634887695, -4.922500133514404, -4.164999961853027, -4.794300079345703, -5.4822998046875, -5.918099880218506, -5.680600166320801, -4.547699928283691, -4.848700046539307, -4.99399995803833, -5.608399868011475, -5.775199890136719, -4.547999858856201, -5.662799835205078, -5.651899814605713, -5.512599945068359, -5.595699787139893, -5.363100051879883, -5.453800201416016, -5.528500080108643, -5.73829984664917, -5.649899959564209, -5.560100078582764, -5.668700218200684, -5.212299823760986, -6.17710018157959, -6.329899787902832, -6.462200164794922, -6.513899803161621, -6.519800186157227, -6.243299961090088, -6.669099807739258, -6.624499797821045, -6.8256001472473145, -6.839799880981445, -6.842400074005127, -6.9328999519348145, -6.913000106811523, -6.967100143432617, -6.943600177764893, -4.726600170135498, -7.106100082397461, -5.677700042724609, -7.228300094604492, -7.261899948120117, -7.257500171661377, -7.3003997802734375, -7.332300186157227, -7.337900161743164, -7.332200050354004, -7.380499839782715, -7.410399913787842, -7.428699970245361, -7.456200122833252, -3.9895999431610107, -4.742000102996826, -5.610599994659424, -6.065499782562256, -6.0254998207092285, -7.001200199127197, -7.0295000076293945, -6.105400085449219, -6.226099967956543, -5.1483001708984375, -4.827700138092041, -6.328800201416016, -5.863500118255615, -6.230100154876709, -6.230100154876709, -6.230100154876709, -5.848599910736084, -6.574100017547607, -4.539100170135498, -6.082600116729736, -5.499199867248535, -5.417500019073486, -5.646299839019775, -4.99970006942749, -4.871699810028076, -4.745200157165527, -5.958799839019775, -4.196499824523926, -5.247700214385986, -5.857100009918213, -5.440899848937988, -5.171299934387207, -5.310200214385986, -5.4882001876831055, -5.564700126647949, -5.417300224304199, -5.380099773406982, -5.895899772644043, -5.671299934387207, -5.656700134277344, -5.339200019836426, -5.652599811553955, -5.5233001708984375, -5.42609977722168, -5.515900135040283, -5.632999897003174, -5.643700122833252, -6.1504998207092285, -6.2515997886657715, -4.5655999183654785, -6.524700164794922, -6.527200222015381, -6.5278000831604, -5.895500183105469, -6.769999980926514, -7.006800174713135, -5.982500076293945, -7.1092000007629395, -7.245699882507324, -7.159299850463867, -5.590000152587891, -6.790200233459473, -7.059999942779541, -7.451499938964844, -7.46019983291626, -7.488999843597412, -7.348100185394287, -7.587299823760986, -7.565800189971924, -7.669400215148926, -7.718500137329102, -7.7652997970581055, -7.77209997177124, -7.775400161743164, -7.870800018310547, -7.69980001449585, -6.55210018157959, -6.34689998626709, -7.0096001625061035, -5.622600078582764, -7.402400016784668, -7.17140007019043, -6.580599784851074, -6.4558000564575195, -7.042600154876709, -6.501699924468994, -5.339300155639648, -6.127999782562256, -6.4532999992370605, -5.048600196838379, -6.328499794006348, -5.64870023727417, -5.2754998207092285, -5.559999942779541, -6.579500198364258, -6.423699855804443, -5.763299942016602, -6.38129997253418, -5.930200099945068, -5.322800159454346, -5.7677998542785645, -5.972700119018555, -5.567299842834473, -5.734000205993652, -5.000100135803223, -5.624000072479248, -5.860000133514404, -5.3892998695373535, -6.111199855804443, -6.065999984741211, -6.113399982452393, -5.7399001121521, -5.41349983215332, -5.079899787902832, -5.402200222015381, -5.578199863433838, -5.547299861907959, -5.525899887084961, -5.892499923706055, -5.8130998611450195, -5.951499938964844, -5.903600215911865, -6.587800025939941, -7.145999908447266, -6.989799976348877, -7.5605998039245605, -7.725399971008301, -7.710899829864502, -7.954599857330322, -8.008199691772461, -7.313700199127197, -8.15939998626709, -7.594099998474121, -6.849400043487549, -8.380999565124512, -8.355600357055664, -6.952499866485596, -8.50100040435791, -8.512299537658691, -8.548399925231934, -8.57040023803711, -8.602700233459473, -8.562199592590332, -8.633199691772461, -8.633899688720703, -7.8597002029418945, -8.631600379943848, -8.684100151062012, -8.701199531555176, -6.699100017547607, -8.689499855041504, -8.715800285339355, -6.06879997253418, -7.194399833679199, -7.537199974060059, -5.499100208282471, -7.34119987487793, -7.784599781036377, -7.278900146484375, -6.200099945068359, -5.192699909210205, -7.213799953460693, -6.145699977874756, -8.082500457763672, -7.745699882507324, -5.259399890899658, -6.8871002197265625, -6.335299968719482, -5.817699909210205, -6.488100051879883, -5.0731000900268555, -6.040999889373779, -6.920599937438965, -6.424099922180176, -5.860300064086914, -4.5447001457214355, -6.313399791717529, -5.2581000328063965, -6.200099945068359, -4.602700233459473, -4.439899921417236, -4.87470006942749, -6.282199859619141, -5.20959997177124, -5.404099941253662, -6.009200096130371, -5.888500213623047, -5.01639986038208, -5.8927001953125, -4.498799800872803, -5.360199928283691, -4.7657999992370605, -5.763899803161621, -4.978300094604492, -5.074999809265137, -5.396399974822998, -5.436999797821045, -5.028299808502197, -5.299300193786621, -5.0518999099731445, -5.610899925231934, -4.971199989318848, -5.4039998054504395, -5.309700012207031, -5.639400005340576, -5.557000160217285, -5.503200054168701, -5.531599998474121, -5.5524001121521], \"loglift\": [30.0, 29.0, 28.0, 27.0, 26.0, 25.0, 24.0, 23.0, 22.0, 21.0, 20.0, 19.0, 18.0, 17.0, 16.0, 15.0, 14.0, 13.0, 12.0, 11.0, 10.0, 9.0, 8.0, 7.0, 6.0, 5.0, 4.0, 3.0, 2.0, 1.0, 1.2436, 1.2433, 1.2431, 1.2429, 1.2429, 1.2427, 1.2427, 1.2427, 1.2427, 1.2427, 1.2427, 1.2422, 1.2422, 1.2421, 1.2417, 1.2413, 1.2412, 1.2408, 1.2408, 1.2407, 1.2406, 1.2405, 1.2402, 1.2401, 1.2399, 1.2399, 1.2398, 1.2397, 1.2397, 1.2397, 1.2379, 1.2367, 1.2395, 1.2279, 1.2369, 1.2392, 1.2162, 1.1951, 1.2136, 1.196, 1.2268, 1.1308, 1.1828, 1.1637, 1.1898, 1.1907, 1.0735, 1.0608, 1.0378, 1.0427, 1.1356, 1.1434, 1.1473, 0.958, 1.0681, 1.0712, 1.0237, 1.0833, 1.0687, 0.8143, 0.8308, 1.1188, 0.8, 0.7797, 0.859, 0.8324, 0.6626, 0.1701, 0.6752, 0.8296, 0.4567, 0.4285, 0.0454, 0.9415, 0.0836, 0.7699, 0.4974, -0.0051, 0.0406, -0.0747, 0.0823, 0.5092, 0.0291, -0.0673, 1.4992, 1.4988, 1.4986, 1.4985, 1.4977, 1.4977, 1.4977, 1.4974, 1.4973, 1.497, 1.497, 1.4968, 1.4967, 1.4967, 1.4966, 1.4966, 1.4963, 1.4963, 1.4963, 1.4963, 1.4962, 1.4958, 1.4957, 1.4956, 1.4955, 1.4951, 1.4949, 1.4948, 1.4947, 1.4946, 1.4881, 1.4894, 1.4874, 1.4922, 1.4891, 1.4876, 1.4568, 1.4875, 1.4861, 1.4713, 1.483, 1.4477, 1.4407, 1.4496, 1.3883, 1.3871, 1.4303, 1.4092, 1.3905, 1.4379, 1.3308, 1.2613, 1.4483, 1.3988, 1.3039, 1.3822, 1.2295, 1.345, 1.3261, 1.1341, 0.9155, 1.0513, 1.2106, 1.3056, 1.2155, 0.8188, 0.7706, 0.8282, 1.1126, 1.1732, 0.459, 1.1004, 1.072, 0.897, 0.8953, 0.3198, 0.4244, 0.5126, 0.9381, 0.525, 0.0846, 0.4204, 2.3808, 2.3796, 2.3792, 2.379, 2.3788, 2.3788, 2.3788, 2.3784, 2.3782, 2.3778, 2.3778, 2.3778, 2.3774, 2.3773, 2.3773, 2.3771, 2.3766, 2.3765, 2.376, 2.376, 2.3758, 2.3756, 2.3756, 2.3753, 2.3753, 2.3753, 2.375, 2.3749, 2.3747, 2.3745, 2.3647, 2.3673, 2.3727, 2.3683, 2.3642, 2.3736, 2.3736, 2.3611, 2.3613, 2.3331, 2.3111, 2.3195, 2.2839, 2.2893, 2.2893, 2.2893, 2.1929, 2.3123, 1.7488, 2.1715, 2.0069, 1.9418, 1.9739, 1.6475, 1.47, 1.352, 2.0465, 0.8105, 1.4581, 1.9454, 1.5284, 1.2501, 1.3873, 1.5251, 1.5749, 1.106, 0.959, 1.9161, 1.4062, 1.323, 0.2549, 1.2056, 0.5332, -0.3457, -0.1495, 0.4211, 1.7296, 1.7292, 1.7291, 1.7291, 1.7288, 1.7288, 1.7288, 1.7284, 1.7283, 1.7279, 1.7278, 1.7276, 1.7273, 1.7272, 1.7269, 1.7267, 1.7267, 1.7266, 1.7266, 1.7265, 1.7264, 1.726, 1.7256, 1.7256, 1.7255, 1.7253, 1.7253, 1.725, 1.7248, 1.7246, 1.7214, 1.7193, 1.7226, 1.7077, 1.7243, 1.7179, 1.7056, 1.6939, 1.7105, 1.6854, 1.6307, 1.6449, 1.6581, 1.5442, 1.6482, 1.5402, 1.4809, 1.5042, 1.6452, 1.6191, 1.493, 1.6098, 1.5031, 1.3599, 1.4295, 1.4778, 1.2514, 1.2916, 0.594, 1.0427, 1.2168, 0.8124, 1.3867, 1.3451, 1.3536, 0.9572, 0.4646, 0.0005, 0.4434, 0.5967, 0.5069, 0.157, 0.985, 0.2021, 1.134, -0.1622, 1.5166, 1.5157, 1.5145, 1.5143, 1.5139, 1.5136, 1.5129, 1.5127, 1.5124, 1.5119, 1.5117, 1.5108, 1.5103, 1.5102, 1.5095, 1.5094, 1.5093, 1.509, 1.5089, 1.5084, 1.5083, 1.5082, 1.5081, 1.5081, 1.508, 1.5077, 1.5075, 1.5074, 1.5073, 1.5073, 1.4961, 1.507, 1.5046, 1.4825, 1.5008, 1.5047, 1.4974, 1.4813, 1.4547, 1.493, 1.4674, 1.5032, 1.4949, 1.436, 1.4744, 1.4568, 1.4406, 1.4479, 1.3847, 1.4263, 1.4651, 1.4351, 1.3972, 1.2963, 1.4234, 1.3395, 1.4076, 1.2567, 1.2048, 1.2232, 1.3815, 1.224, 1.2373, 1.3237, 1.2812, 1.0727, 1.2709, 0.9221, 1.1121, 0.8534, 1.1944, 0.8767, 0.8979, 1.0161, 1.0102, 0.7939, 0.8941, 0.6895, 1.0549, 0.3953, 0.8001, 0.7056, 0.9994, 0.8691, 0.4565, 0.5095, 0.4861]}, \"token.table\": {\"Topic\": [1, 4, 3, 1, 3, 4, 2, 2, 2, 2, 2, 2, 2, 1, 2, 3, 4, 5, 2, 4, 5, 1, 2, 3, 4, 5, 4, 4, 5, 2, 4, 3, 3, 1, 2, 3, 4, 5, 1, 5, 2, 5, 3, 4, 1, 2, 3, 4, 5, 1, 2, 3, 4, 5, 1, 4, 1, 2, 3, 4, 5, 1, 3, 1, 2, 3, 4, 5, 2, 5, 1, 4, 3, 4, 3, 4, 1, 2, 3, 4, 5, 1, 2, 4, 5, 1, 2, 3, 4, 5, 1, 2, 4, 5, 1, 2, 4, 5, 1, 2, 4, 5, 2, 4, 3, 3, 2, 5, 1, 2, 4, 5, 1, 2, 5, 2, 3, 1, 1, 3, 4, 4, 1, 3, 4, 1, 1, 2, 2, 1, 2, 3, 4, 5, 1, 2, 3, 4, 5, 1, 4, 2, 1, 2, 3, 4, 5, 1, 2, 3, 4, 5, 1, 2, 3, 4, 5, 1, 2, 3, 4, 5, 1, 2, 3, 4, 5, 5, 5, 1, 4, 1, 2, 3, 4, 5, 5, 1, 2, 3, 4, 5, 1, 2, 3, 4, 5, 1, 2, 3, 4, 5, 1, 2, 3, 4, 5, 2, 4, 1, 2, 3, 4, 5, 1, 2, 5, 1, 2, 3, 4, 5, 4, 1, 4, 1, 3, 4, 1, 2, 3, 4, 5, 2, 1, 2, 3, 5, 1, 2, 3, 4, 5, 1, 2, 3, 4, 5, 1, 5, 3, 3, 3, 1, 2, 1, 3, 1, 2, 3, 4, 5, 1, 2, 3, 5, 1, 2, 3, 4, 5, 2, 1, 4, 1, 1, 2, 3, 4, 5, 2, 1, 3, 1, 3, 3, 2, 3, 5, 1, 1, 2, 3, 4, 5, 3, 2, 2, 5, 1, 3, 4, 1, 2, 3, 4, 5, 3, 3, 4, 4, 1, 2, 3, 4, 5, 4, 1, 2, 1, 2, 3, 4, 5, 1, 2, 3, 4, 5, 1, 4, 4, 5, 3, 4, 1, 3, 4, 1, 2, 3, 4, 5, 1, 2, 3, 4, 5, 1, 2, 3, 4, 5, 4, 5, 1, 2, 3, 5, 1, 2, 3, 5, 1, 1, 2, 3, 4, 5, 1, 2, 3, 4, 5, 4, 5, 2, 5, 1, 2, 3, 4, 5, 1, 2, 3, 4, 5, 1, 2, 3, 4, 5, 1, 2, 3, 4, 5, 1, 2, 4, 5, 1, 2, 1, 2, 3, 4, 5, 3, 2, 5, 2, 3, 5, 5, 3, 5, 3, 2, 2, 4, 5, 4, 1, 2, 3, 4, 5, 2, 4, 5, 1, 3, 4, 1, 2, 3, 4, 5, 5, 2, 5, 2, 5, 1, 2, 4, 5, 1, 2, 5, 1, 3, 4, 5, 2, 4, 1, 4, 3, 1, 2, 3, 4, 5, 1, 2, 3, 4, 5, 4, 1, 4, 1, 2, 3, 4, 5, 1, 1, 2, 3, 4, 5, 1, 2, 3, 5, 1, 1, 2, 3, 4, 5, 1, 2, 3, 4, 5, 1, 2, 3, 4, 5, 2, 5, 5, 2, 5, 5, 1, 2, 3, 4, 5, 5, 1, 2, 3, 4, 5, 1, 2, 3, 4, 5, 1, 2, 3, 4, 5, 1, 2, 3, 4, 5, 1, 2, 3, 4, 5, 1, 2, 3, 4, 5, 1, 3, 4, 1, 1, 2, 3, 4, 5, 1, 2, 4, 5, 5, 1, 2, 3, 4, 5, 1, 2, 3, 4, 5, 2, 5, 1, 1, 2, 3, 4, 5, 1, 2, 3, 4, 5, 1, 2, 3, 5, 1, 2, 3, 5, 1, 2, 3, 4, 5, 2, 5, 1, 2, 3, 4, 5, 1, 2, 3, 4, 5, 1, 2, 3, 5, 5, 4, 1, 3, 1, 4, 5, 1, 5, 4, 5, 1, 2, 3, 4, 5, 1, 2, 3, 4, 5, 1, 2, 3, 4, 5, 1, 2, 3, 4, 5, 1, 4, 5, 1, 3, 4, 5, 4, 5, 1, 3, 5, 1, 3, 4, 1, 4, 1, 2, 3, 4, 5, 1, 2, 5, 1, 2, 3, 4, 5, 1, 2, 3, 4, 5, 3, 4, 1, 2, 3, 4, 5, 1, 3, 5, 1, 2, 1, 2, 5, 1, 3, 4, 2, 3, 1, 2, 3, 4, 5, 1, 2, 5, 1, 1, 3, 4, 5, 1, 2, 3, 4, 5, 1, 2, 3, 4, 5, 1, 5, 2, 5, 1, 2, 3, 4, 5, 2, 1, 2, 3, 4, 5, 1, 2, 3, 4, 5, 1, 2, 3, 4, 5, 1, 4, 1, 3, 3, 4, 1, 2, 3, 4, 5, 4, 1, 2, 4, 5, 1, 2, 3, 4, 5, 2, 4, 5, 1, 1, 1, 4, 1, 2, 3, 4, 5, 1, 1, 2, 3, 4, 5, 1, 2, 4, 5, 1, 4, 5, 1, 2, 3, 4, 5, 1, 2, 3, 4, 5, 1, 2, 3, 4, 5, 4, 1, 2, 4, 5, 2, 3, 1, 2, 3, 4, 5, 2, 5, 1, 1, 2, 3, 4, 5, 1, 3, 4, 1, 2, 3, 4, 5, 5, 1, 2, 4, 1, 2, 3, 4, 5, 2, 5, 2, 1, 2, 3, 4, 5, 1, 2, 3, 5, 4, 5, 1, 2, 3, 4, 5, 1, 2, 3, 4, 5, 1, 2, 3, 4, 5, 1, 2, 3, 4, 5, 1, 2, 3, 4, 5, 1, 2, 3, 4, 5, 1, 4, 5, 1, 4, 1, 4, 1, 2, 4, 5, 1, 2, 3, 4, 5, 1, 2, 3, 4, 5, 3, 5, 5, 5, 3, 1, 2, 3, 4, 5, 1, 3, 4, 5, 1, 2, 3, 4, 5, 2, 1, 2, 2, 3, 3, 4, 3, 1, 2, 3, 4, 5, 5, 1, 2, 3, 5, 1, 2, 3, 4, 5, 1, 2, 3, 4, 5, 1, 4, 5, 5, 1, 2, 3, 4, 5, 1, 2, 4, 5, 1, 1, 2, 3, 4, 5, 4, 2, 5, 3, 3, 1, 2, 3, 4, 5, 4, 1, 2, 3, 5, 1, 1, 1, 2, 3, 4, 5, 1, 2, 5, 2, 3, 4, 4, 4, 1, 2, 4, 5, 1, 2, 3, 4, 5, 1, 4, 1, 2, 4, 1, 3, 2, 1, 2, 3, 4, 5, 1, 2, 3, 4, 5, 1, 2, 3, 4, 5, 1, 2, 3, 4, 5, 1, 2, 3, 4, 5, 5, 1, 2, 3, 4, 5, 1, 2, 3, 4, 5, 1, 2, 5, 1, 3, 5, 3, 3, 4, 5, 1, 2, 3, 4, 5, 1, 2, 3, 4, 5, 4, 1, 3, 4, 1, 2, 3, 4, 5], \"Freq\": [0.02159732174477814, 0.9774529809007656, 0.9985027259651386, 0.05986086532650132, 0.9395553209942163, 0.9991449984581201, 0.9978396557180339, 0.9944675728599913, 0.9957551469074789, 0.9987636955351654, 0.9945328700614037, 0.9989648366295146, 0.9961270692501164, 0.13688109316237573, 0.2409816009072246, 0.003100866188144434, 0.47487550767011905, 0.14441176819072649, 0.9938140993662696, 0.00430222553838212, 0.9944381908363147, 0.20618967445845685, 0.7876250123863328, 0.0013680831480655904, 0.00019544044972365576, 0.0046905707933677385, 0.9986342029154885, 0.997361332962213, 0.002282291379776231, 0.9920392461145352, 0.0066357140208330116, 0.991014226168945, 0.996233619572988, 0.31277370589002346, 0.15313278134150476, 0.06948399953370778, 0.10815002682243774, 0.35641654857235233, 0.0098828076548552, 0.98828076548552, 0.006480881042208465, 0.9915747994578952, 0.9965304323783324, 0.9953649181066034, 0.03812432752454109, 0.8929262139497874, 0.03322262827138581, 0.0002723166251752935, 0.035401161272788154, 0.01996867224455037, 0.8886059148824914, 0.0009076669202068349, 0.08622835741964932, 0.0045383346010341745, 0.03477683719907617, 0.9642668496107483, 0.3051370390257652, 0.10356166172995668, 0.05178083086497834, 0.46158912085352116, 0.07767124629746751, 0.01953185530455092, 0.9787629713724961, 0.04267972449824575, 0.11614482404440649, 0.03078537504791497, 0.05527374156330188, 0.7552911900960048, 0.9971531800167512, 0.9978542589283605, 0.9913965500070944, 0.0075563761433467555, 0.9974514275139996, 0.9978483836716453, 0.9918128379429567, 0.008030873181724345, 0.4547639602680062, 0.043852239025843454, 0.35711152058545664, 0.1183604414447534, 0.025986512015314638, 0.9223193111192121, 0.026386248172461203, 0.03238312275711148, 0.018590311212415847, 0.12609675303087448, 0.37253241648847396, 0.0143946065103738, 0.1222581912947748, 0.36485529301627456, 0.9073181139570441, 0.07753277881219908, 0.009230092715737987, 0.005538055629442792, 0.005396358603324306, 0.06475630323989166, 0.8863519005960172, 0.04317086882659445, 0.0034613734571443656, 0.9328401467004065, 0.011249463735719188, 0.05192060185716549, 0.9984532359956121, 0.9964810756419827, 0.9952314317273591, 0.9979473439922393, 0.9942615257092691, 0.004212972566564699, 0.187710140313546, 0.03993832772628638, 0.6861404703376001, 0.08546802133425285, 0.0025690585538268797, 0.9865184846695217, 0.010276234215307519, 0.9969623947432819, 0.9979147871269821, 0.9992518052586774, 0.06531575524961832, 0.10430526220984966, 0.8304431738880044, 0.9933861559489475, 0.05580051585679513, 0.9319261411134857, 0.01208052405147111, 0.9956631506282219, 0.9978539086099143, 0.0012520124323838323, 0.9982250312047536, 0.7508355888095444, 0.06821068481595448, 0.034709740881029995, 0.13383109046168282, 0.012260654739070297, 0.036965724361504866, 0.9493112617943908, 0.008651552510139436, 0.003932523868245198, 0.0023595143209471188, 0.9958905099010943, 0.001896934304573513, 0.9979602680136052, 0.558720905328796, 0.35296299616941196, 0.00047030379236430637, 0.004938189819825217, 0.08277346745611792, 0.11969178330027437, 0.7487181398444855, 0.005892518562475046, 0.06260800972629736, 0.06297629213645205, 0.19710909604870772, 0.7628901848433612, 0.02742855088263054, 0.0013445368079720854, 0.0110252018253711, 0.7383783044649737, 0.029698181015547047, 0.033192084664434934, 0.08443600484812396, 0.11413418586367101, 0.26589514043543305, 0.11868775499393112, 0.003456924902735858, 0.010082697632979585, 0.6017930101512673, 0.9912256635197109, 0.9890959373113921, 0.9976419766882451, 0.9988068043360365, 0.6623859600257201, 0.03354341008279258, 0.08289463411264833, 0.20665825062502097, 0.014651144633863427, 0.996905615400263, 0.0024296729462981994, 0.07580579592450383, 0.015063972267048838, 0.9052961397907092, 0.0014578037677789198, 0.20409804035681778, 0.1925876969529257, 0.32257035539199946, 0.13587820018253066, 0.1448618828392269, 0.05847466683352242, 0.6704831730843753, 0.12169052286976287, 0.016594162209513118, 0.13275329767610494, 0.29663432433541626, 0.020012530078114467, 0.022630991957493928, 0.2169582700057269, 0.44382928855481896, 0.0009344825738052384, 0.9980273888239947, 0.07054936027790779, 0.018540811832501378, 0.03849575338104099, 0.07117786237392477, 0.8011830468976654, 0.0063960235868018855, 0.989251648092025, 0.004264015724534591, 0.00319308510417507, 0.9398313823288623, 0.0212872340278338, 0.02448031913200887, 0.0106436170139169, 0.9946705772747321, 0.9972288645489816, 0.9974793139830385, 0.18776312791784966, 0.8107155616639864, 0.9977771373214032, 0.18728252074728727, 0.7522890652668142, 0.02346672549122636, 0.023015442308702776, 0.013989778658231098, 0.9961570788235772, 0.05921043618811076, 0.9131178051362572, 0.021478295480000964, 0.0063854391967570435, 0.17663225767976629, 0.16459473246932324, 0.5311250919383237, 0.11914693320540563, 0.008598232293173603, 0.01452263570336245, 0.6383645520043234, 0.0050513515489956345, 0.2762457878356988, 0.06582542487284937, 0.9978102794180679, 0.9928173407492366, 0.9941265409890824, 0.9923082518664181, 0.99424533790139, 0.9722650502994727, 0.026790311374497527, 0.9980541094691235, 0.0020306289104153074, 0.06175261857167025, 0.34144239830686285, 0.04530027858724715, 0.3993636500328455, 0.15190242670549542, 0.04815299129155674, 0.5551120119678339, 0.37710825764286576, 0.019477614455011717, 0.8925218897127906, 0.05753021903442186, 0.036639357373877614, 0.0020890861660544254, 0.011409624445374168, 0.9965763874131219, 0.01017951806788817, 0.9888674694519937, 0.9980044641688232, 0.34147756102862775, 0.3530785173385531, 0.207793599786605, 0.027774054224350815, 0.06987870153743302, 0.9949259919808334, 0.06605032384949264, 0.9346120824703208, 0.17025709696316693, 0.828584538554079, 0.9970196851327665, 0.22902803637298033, 0.6656709187263452, 0.10520393540710071, 0.998793473590324, 0.020014585251221604, 0.17581439593229956, 0.02393901373185329, 0.7793914962534529, 0.0007848856961263374, 0.9933500117742879, 0.9977476310627891, 0.011572422712930864, 0.9875134048367671, 0.017142626728566875, 0.9795786702038214, 0.0024489466755095533, 0.9039122408833301, 0.009816241529954715, 0.03190278497235283, 0.03844694599232264, 0.016360402549924526, 0.9975690434064054, 0.0029889705049420444, 0.9953271781457007, 0.9993112262070217, 0.01809599798127088, 0.8442719058158449, 0.00031199996519432554, 0.07300799185547217, 0.06427199283003106, 0.9952101951705296, 0.9468783430173674, 0.052163357818920834, 0.5422745829233939, 0.09298618649487683, 0.3085055720157129, 0.04127891456548271, 0.01477350626554118, 0.8408585444736701, 0.09169599854423555, 0.004366476121154074, 0.0474074550296728, 0.015594557575550262, 0.004199223893065362, 0.9952160626564908, 0.9567690123847279, 0.04266894394854704, 0.9827709316015901, 0.01607805205074176, 0.004308233047111145, 0.993765756200304, 0.0014360776823703816, 0.010309481820545393, 0.8942444531141073, 0.020206584368268967, 0.00020618963641090785, 0.07505302765357046, 0.09041580562442618, 0.04958286114887887, 0.013854034732774979, 0.6905142574704161, 0.1553110209516353, 0.679972837950822, 0.05405123893905199, 0.020630243869867174, 0.20836546308565845, 0.03672183408836357, 0.7770509729850767, 0.2223512895397136, 0.8131283337150641, 0.03885495947378673, 0.04609611101208334, 0.10190596189261338, 0.9700269917384395, 0.0012882164564919515, 0.027052545586330985, 0.002576432912983903, 0.9962396236957317, 0.02144546139825588, 0.06817736235564928, 0.0017604483237374227, 0.1385952953051462, 0.7701161212567708, 0.04375783091511462, 0.05639898206836996, 0.0019447924851162055, 0.02528230230651067, 0.8722394295746182, 0.9184695630639139, 0.0800891826790426, 0.004113013216198525, 0.995349198320043, 0.1699687882909192, 0.1140296934103635, 0.6440167590094743, 0.07099962042532067, 0.0007171678830840472, 0.05789829419104347, 0.02688135087441304, 0.013292975707127327, 0.2351379702860745, 0.6664211821173167, 0.025107514683670094, 0.03692281571127955, 0.0081230194564815, 0.0081230194564815, 0.9212242519964248, 0.06094024299268424, 0.026117246996864674, 0.0016741824997990175, 0.07500337599099599, 0.836756413399549, 0.003697524080237512, 0.010168191220653159, 0.034202097742196985, 0.9511880696411, 0.9939990623921642, 0.00358844426856377, 0.22423088108104822, 0.09591378728322293, 0.40180100078106906, 0.04821612009372828, 0.2294154101233846, 0.9964642837784117, 0.017748289766583363, 0.9791139854565155, 0.03463950941273146, 0.0009897002689351845, 0.9639680619428697, 0.9864702974670609, 0.9964175037677228, 0.9847122180953369, 0.997127862976583, 0.9953479296602334, 0.9946820045525139, 0.005853861301329221, 0.9932051341255246, 0.9970904051033513, 0.03203935231909516, 0.08543827285092041, 0.020172925534245097, 0.07297852472682786, 0.7891173811925288, 0.0010187966854527093, 0.9974019550582025, 0.0010187966854527093, 0.031545064068209255, 0.9069205919610162, 0.05993562172959759, 0.04015244771950528, 0.3771697138242054, 0.1410820977248191, 0.321877818603903, 0.11979910631065512, 0.9868373791129865, 0.05003994186209776, 0.9487572977053735, 0.1133661027630332, 0.8861990204561682, 0.025690354319528493, 0.03519226619113492, 0.00035192266191134925, 0.9389296619794798, 0.004597002048759672, 0.0992952442532089, 0.895495999098384, 0.06315928792663954, 0.6282093459846112, 0.30564583978784493, 0.003383533281784261, 0.0173428577991026, 0.979871465649297, 0.0009892942871648218, 0.9989399064646789, 0.9970446742182447, 0.8384962410418716, 0.0007400672912990923, 0.04292390289534735, 0.10212928619927474, 0.015541413117280939, 0.300049478662879, 0.34098014124134784, 0.0560962068804513, 0.2821117380906417, 0.020709936842492196, 0.9985904959191583, 0.9968005779433142, 0.0035985580431166578, 0.03451386963708484, 0.9576506613226577, 0.006990150812574145, 0.00043688442578588405, 0.0008737688515717681, 0.9980044641688232, 0.13840125807758716, 0.12933927094155467, 0.020595425309164757, 0.7093064476476342, 0.0024714510370997707, 0.9969522668992631, 0.9873685082179682, 0.002429947108001562, 0.009719788432006249, 0.9987003227613079, 0.5660005714448764, 0.20404320600587791, 0.02914902942941113, 0.03311103342952527, 0.16810216971912825, 0.05737979733895931, 0.8218552511164787, 0.022069152822676658, 0.005737979733895931, 0.09269044185524196, 0.03578770905062025, 0.5470803275025049, 0.13621523367329103, 0.006103330225687174, 0.27492728425709045, 0.03441278486683431, 0.9650328099085106, 0.9905780326446307, 0.8961986100886042, 0.10337105661339456, 0.9964568753539698, 0.01859318681857846, 0.24274438346477437, 0.002969745116856282, 0.004390057998831026, 0.7312028955111793, 0.995900995351435, 0.18464003062717557, 0.6515589558140044, 0.15690603425725003, 0.0015196710339685233, 0.0049389308603977, 0.9981213994138837, 0.9820067265093659, 0.002412792939826452, 0.009651171759305808, 0.002412792939826452, 0.005638219800673253, 0.33970274299056347, 0.002617744907455439, 0.011477804594227693, 0.640743407347939, 0.1854604124629028, 0.7209179110096426, 0.0009510790382712964, 0.0066575532678990745, 0.08607265296355232, 0.06074214583935996, 0.11579606397469959, 0.01483002222833872, 0.06378941068079942, 0.7447515272478047, 0.09894799750300294, 0.04909633463889459, 0.1608849119705315, 0.6805507309176004, 0.010574595152992682, 0.12177219332941308, 0.7155826641717196, 0.16281900006966468, 0.9956696160177277, 0.10754043117954254, 0.18102639248556326, 0.013263319845476913, 0.06882587595490723, 0.6294699905042557, 0.05490131688605575, 0.002553549622607244, 0.010214198490428976, 0.9320456122516441, 0.9956403850282318, 0.21435112292844571, 0.08207391680549697, 0.019742866585514735, 0.16132742409877757, 0.5226218826136972, 0.3592322467595321, 0.07966025810910528, 0.4246855798555485, 0.13293622690818843, 0.00355173125327221, 0.9953802938048231, 0.002860288200588572, 0.9986384419947212, 0.044247653256115224, 0.6935381069835153, 0.15749825476185508, 0.014229421531702254, 0.09044454233849103, 0.8428379655993906, 0.021318044657607026, 0.1149236407450997, 0.01627923410217264, 0.004651209743477897, 0.009510233482210731, 0.9034721808100196, 0.007608186785768586, 0.07893493790234908, 0.02406315140955601, 0.9425880166428939, 0.004125111670209601, 0.02956330030316881, 0.2866645841867922, 0.3071885342946908, 0.021328810896443593, 0.20738579651510564, 0.1774718038741816, 0.010039281115542135, 0.9888691898809004, 0.12250339165369098, 0.5462989087259192, 0.04424569673978519, 0.0027089202085582775, 0.2844366218986191, 0.02160408464810195, 0.5058875025064598, 0.07957341585318999, 0.06745166700086129, 0.3254298542693728, 0.34631624178670084, 0.005585745835269368, 0.6468293677241929, 0.0011171491670538736, 0.9966350947905681, 0.9944584908100598, 0.01396318512749483, 0.985800870001135, 0.8381311729974504, 0.15375787706068336, 0.007838636869760328, 0.999242690021583, 0.9930650130785545, 0.018824014764205768, 0.9788487677387, 0.6604249211553285, 0.023855653045534678, 0.018414890070237295, 0.017996369841368265, 0.27957151288451165, 0.9517201682186273, 0.011913048002736642, 0.005294688001216285, 0.017869572004104963, 0.013236720003040714, 0.1245973520725025, 0.24027213161807387, 0.05974936959998522, 0.04875548559358794, 0.526591110741203, 0.3132590325609717, 0.10151458461125533, 0.11919064287488383, 0.3209923080513092, 0.14509097824728392, 0.2953537568045848, 0.6451553366027105, 0.0595844100684032, 0.007248641038240845, 0.01449728207648169, 0.9749422196433936, 0.0018121602595602112, 0.015794453431587575, 0.9824150034447472, 0.9929624715043519, 0.005105205509019804, 0.001276301377254951, 0.05262337659671774, 0.9129011853082774, 0.03660756632815147, 0.06846147905794599, 0.9310761151880655, 0.17584970811122028, 0.11110694146694679, 0.001670781074690929, 0.619442083441662, 0.09147526383932836, 0.9833460121908069, 0.0030444148984235505, 0.013192464559835386, 0.22068432736059151, 0.08748493237365448, 0.016672333423667758, 0.13732266024225273, 0.5379964796174941, 0.03363776442225376, 0.009076857066322443, 0.1452297130611591, 0.7976955562991607, 0.01441618475239447, 0.990263626748996, 0.005381867536679326, 0.001696175054486468, 0.5107028891326529, 0.0012335818578083403, 0.001387779590034383, 0.48479767011867775, 0.008401069235232097, 0.9871256351397714, 0.004200534617616048, 0.04893225727921068, 0.9510651460268403, 0.00719499129629844, 0.9881121380249858, 0.00479666086419896, 0.05262337659671774, 0.9129011853082774, 0.03660756632815147, 0.998330360046791, 0.996419810799772, 0.02916950784634981, 0.6788540007877775, 0.0011364743316759666, 0.10720741195476619, 0.18335119217705595, 0.940576579546249, 0.04236052610088805, 0.01729001065342369, 0.9950874460800339, 0.9525174326026483, 0.02523224987026883, 0.005406910686486178, 0.016220732059458533, 0.08562822179356376, 0.5572443799052846, 0.06543288646489306, 0.1773517629772354, 0.11434231675178283, 0.8321991413780169, 0.06251081108046855, 0.08686318226825844, 0.0001917509542345661, 0.018408091606518344, 0.003109397793857108, 0.9950072940342746, 0.002253689840546845, 0.9961309095217055, 0.8172485131163654, 0.0008063626177763842, 0.006249310287766978, 0.09313488235317238, 0.08265216832207939, 0.9990266597811504, 0.035468873882472364, 0.037833465474637194, 0.0023645915921648246, 0.0035468873882472367, 0.9210084251481991, 0.3909341832032694, 0.07772623671935401, 0.4462061737592545, 0.006908998819498134, 0.07830198662097886, 0.3684093823888158, 0.003518714253952396, 0.4799526242391068, 0.14637851296441967, 0.001759357126976198, 0.9949667225056829, 0.004215960688583402, 0.004441043520101464, 0.994793748502728, 0.9908912598463592, 0.9975151217177691, 0.6222201980467961, 0.005214135737822313, 0.009559248852674241, 0.35629927541785805, 0.0069521809837630845, 0.996234393119139, 0.0061664893678042764, 0.0052855623152608085, 0.009690197577978149, 0.978709955375793, 0.1052604016863396, 0.2590605740985042, 0.059447584372077804, 0.5508445891357668, 0.0256333620686941, 0.9894146489591334, 0.004931661801665463, 0.005548119526873646, 0.9973375412539857, 0.9960020779804065, 0.005660872742010458, 0.9934831662228354, 0.4215285445499399, 0.10849075372266151, 0.279153859148854, 0.12807504450927376, 0.06279407522056626, 0.9969822936228522, 0.2372802545842547, 0.2932425787786544, 0.3969594196189418, 0.044769859355519755, 0.027608079935903848, 0.07529182666603051, 0.0042618015093979535, 0.8949783169735702, 0.02415020855325507, 0.9817712492816392, 0.002570081804402197, 0.012850409022010983, 0.18439715463086323, 0.5698560397531393, 0.1583134706752205, 0.06158647600637868, 0.025359137179097106, 0.09262843175517664, 0.8563132000388632, 0.027322055409800303, 0.004664741167526881, 0.019325356265468507, 0.5676519362225035, 0.06476236437456394, 0.3468711485819447, 0.001962495890138301, 0.01864371095631386, 0.9958723502579424, 0.6282442510061783, 0.0006204881491419044, 0.0772507745681671, 0.2941113826932627, 0.9943597219323022, 0.9898723131803818, 0.0006694333237119035, 0.9880835857987696, 0.00033471666185595176, 0.0006694333237119035, 0.010376216517534505, 0.9958400538107829, 0.0017349129857330713, 0.9985942639756831, 0.32562024484599106, 0.15059936324127085, 0.370023005506808, 0.014430897214765512, 0.1391286500705598, 0.05262337659671774, 0.9129011853082774, 0.03660756632815147, 0.09533596745137787, 0.2654496724060877, 0.014910364577703648, 0.13645242734746976, 0.4877496533827603, 0.9918140316432722, 0.9958365306268768, 0.996470691871974, 0.003393203264036234, 0.44216724004531804, 0.11627792856073008, 0.1407779603310511, 0.2941948259404425, 0.0064166749874650375, 0.9969815640808705, 0.0023994742817830816, 0.9978158324123491, 0.8509931073782346, 0.0921056369687821, 0.005510593664798929, 0.003148910665599388, 0.04802088765039067, 0.992799220256774, 0.9866760370704156, 0.008433128521969365, 0.0021082821304923413, 0.9970951736260688, 0.9853285180788688, 0.32873753356244134, 0.02379021624465036, 0.018924035649153695, 0.5985402132460897, 0.02973777030581295, 0.037573742609590476, 0.8234911921935245, 0.005009832347945397, 0.09643927269794889, 0.037573742609590476, 0.01326680868330263, 0.03427258909853179, 0.004422269561100876, 0.007738971731926534, 0.9408378491242114, 0.13069918982591502, 0.03235128461037501, 0.009058359690905002, 0.7887243188009427, 0.03946856722465751, 0.8016182035020634, 0.012979859241518614, 0.0004475813531558143, 0.15441556683875593, 0.03043553201459537, 0.14263275105672915, 0.08020090715984433, 0.010565388967165123, 0.04274180082171345, 0.7237291442508108, 0.8964817961082997, 0.07724786451726845, 0.025749288172422818, 0.009935817788066428, 0.9869579002812651, 0.007156856700379993, 0.9912246530026291, 0.9469420678292643, 0.002566238666203968, 0.03464422199375357, 0.01539743199722381, 0.0035384400557396316, 0.13151202207165633, 0.0017692200278698158, 0.08197386129130146, 0.7814055123091687, 0.009416534884773117, 0.8404257384660007, 0.002354133721193279, 0.0064738677332815174, 0.14183655670189507, 0.013291569247519916, 0.9835761243164738, 0.9970406712830969, 0.998663067216968, 0.9974216874784496, 0.47947999336550445, 0.21538138739413035, 0.17051026502035319, 0.09230630888319873, 0.042307058238132744, 0.1985051911319262, 0.6877083609089325, 0.06063129268883101, 0.05398676746265775, 0.05273279969668414, 0.027964363475514314, 0.0015979636271722464, 0.005592872695102863, 0.9124372311153528, 0.9962058627090491, 0.9936408653730635, 0.005299417948656339, 0.9718797695205069, 0.026955062945098807, 0.9529594293840377, 0.04699969974853247, 0.9950994400797774, 0.012623682072817409, 0.06311841036408705, 0.4258065068408026, 0.2684960071641549, 0.22965390847856287, 0.9923503373586755, 0.00012587066190056475, 0.48208463507916305, 0.0032726372094146836, 0.5145592658495087, 0.04667608261727476, 0.010372462803838835, 0.003241394626199636, 0.014262136355278399, 0.925742305242616, 0.027367638405817726, 0.09374871879439689, 0.0005822901788471856, 0.002620305804812335, 0.87518213880732, 0.013797798123062711, 0.011038238498450169, 0.9741245474882274, 0.9917846708445539, 0.03422385446487298, 0.12921251175513268, 0.004190676056923221, 0.008381352113846443, 0.823467845185413, 0.00650806852432806, 0.9501780045518967, 0.00650806852432806, 0.03579437688380433, 0.9980044641688232, 0.26726164776111716, 0.11578019227118115, 0.029442874447339677, 0.15077027494772974, 0.4368070890230925, 0.9992120428420558, 0.00823448797052065, 0.9881385564624781, 0.9994081902732478, 0.9959345217528807, 0.6410236483484834, 0.1128744971108076, 0.05498184673019282, 0.0012936905112986546, 0.18952565990525289, 0.9977943731848563, 0.6502768663019807, 0.07834349522445334, 0.24097735164749345, 0.03025144865102654, 0.999242690021583, 0.999242690021583, 0.6611485991744908, 0.16985214142419172, 0.1536593409233053, 0.011369413117643666, 0.0037898043725478883, 0.882254160002158, 0.11598172665196908, 0.0019825936179823775, 0.0013747460392612922, 0.0013747460392612922, 0.9966908784644368, 0.9940204444894984, 0.9947399082537709, 0.0169900076600466, 0.18534553810959928, 0.7969858138712769, 0.0007722730754566637, 0.2692773379974282, 0.12968481521163921, 0.0778462737968912, 0.17727719623746588, 0.3460620716970891, 0.08133937169630365, 0.9185926376902559, 0.07312874065833204, 0.005318453866060512, 0.9214221322949837, 0.9991030945149028, 0.9914889844589108, 0.9957517320548971, 0.07258179809812342, 0.015858207987825283, 0.0006099310764548186, 0.7404563268161498, 0.171390632483804, 0.08354736968223411, 0.09832445547637075, 0.002841747268103201, 0.06990698279533875, 0.7453903084234696, 0.007322061264041055, 0.07949666515244574, 0.001046008752005865, 0.001046008752005865, 0.9100276142451026, 0.09759444076617324, 0.016863745279449054, 0.008970077276302687, 0.5030419336550548, 0.37387282087629603, 0.15784905946242142, 0.004233499679068773, 0.0030239283421919813, 0.8267420087552877, 0.007862213689699152, 0.990629690595038, 0.17366064025884537, 0.05140533752835835, 0.02324415262151856, 0.21567891615159046, 0.5359565191000144, 0.1915563507226879, 0.08722966790650633, 0.07187724635496122, 0.05408239410203392, 0.5952552537939992, 0.039074945530845985, 0.001953747276542299, 0.9573361655057265, 0.005536867484385428, 0.9910992797049915, 0.9937976295495846, 0.9940624145001482, 0.9940873858304062, 0.0053446315734369315, 0.9887568410858323, 0.13746024191986653, 0.1062951668287227, 0.12716463675582795, 0.023373806318357872, 0.6054928874850801, 0.3014074244389196, 0.13057547668329908, 0.011147945835412095, 0.005677194638404308, 0.5511007668080109, 0.9991008180173254, 0.013388703048452185, 0.9831508414990869, 0.003412806659409381, 0.47377407287869017, 0.001673127979559824, 0.03290485026467654, 0.19073658966981993, 0.30088418165750835], \"Term\": [\"09=09\", \"09=09\", \"1-6\", \"23-24\", \"23-24\", \"2a04\", \"3801a\", \"646-3490\", \"713-646-3393\", \"713-646-3490\", \"713-853-3989\", \"713-853-5620\", \"713-853-7658\", \"address\", \"address\", \"address\", \"address\", \"address\", \"addressee\", \"addressee\", \"afraid\", \"agreement\", \"agreement\", \"agreement\", \"agreement\", \"agreement\", \"airline\", \"airport\", \"airport\", \"alias\", \"alias\", \"align=\\\"left\\\"><font\", \"align=\\\"right\\\"><font\", \"also\", \"also\", \"also\", \"also\", \"also\", \"amerex\", \"amerex\", \"anyway\", \"anyway\", \"arial\", \"atlanta\", \"attached\", \"attached\", \"attached\", \"attached\", \"attached\", \"attachment\", \"attachment\", \"attachment\", \"attachment\", \"attachment\", \"attempting\", \"attempting\", \"available\", \"available\", \"available\", \"available\", \"available\", \"avista\", \"avista\", \"back\", \"back\", \"back\", \"back\", \"back\", \"backout\", \"beer\", \"billion\", \"billion\", \"border=\\\"0\", \"borland\", \"br\", \"br\", \"business\", \"business\", \"business\", \"business\", \"business\", \"california\", \"california\", \"california\", \"california\", \"call\", \"call\", \"call\", \"call\", \"call\", \"capacity\", \"capacity\", \"capacity\", \"capacity\", \"card\", \"card\", \"card\", \"card\", \"carol\", \"carol\", \"carol\", \"carol\", \"carol.st.clair@enron.com\", \"carr\", \"cellpadding=\\\"0\", \"cellspacing=\\\"0\", \"cheryl\", \"cheryl\", \"city\", \"city\", \"city\", \"city\", \"clair\", \"clair\", \"clair\", \"clair/hou/ect@ect\", \"class=td2\", \"clearing\", \"click\", \"click\", \"click\", \"co.o.l\", \"columbia\", \"columbia\", \"columbia\", \"comex\", \"commission\", \"commission\", \"communications@enron\", \"company\", \"company\", \"company\", \"company\", \"company\", \"confidential\", \"confidential\", \"confidential\", \"confidential\", \"confidential\", \"consumer\", \"consumer\", \"contact(s\", \"contract\", \"contract\", \"contract\", \"contract\", \"contract\", \"copy\", \"copy\", \"copy\", \"copy\", \"copy\", \"corp\", \"corp\", \"corp\", \"corp\", \"corp\", \"cost\", \"cost\", \"cost\", \"cost\", \"cost\", \"could\", \"could\", \"could\", \"could\", \"could\", \"cow\", \"crazy\", \"crisis\", \"cruise\", \"customer\", \"customer\", \"customer\", \"customer\", \"customer\", \"dad\", \"database\", \"database\", \"database\", \"database\", \"database\", \"date\", \"date\", \"date\", \"date\", \"date\", \"david\", \"david\", \"david\", \"david\", \"david\", \"day\", \"day\", \"day\", \"day\", \"day\", \"dbcaps97data\", \"dbcaps97data\", \"deal\", \"deal\", \"deal\", \"deal\", \"deal\", \"debra\", \"debra\", \"debra\", \"delete\", \"delete\", \"delete\", \"delete\", \"delete\", \"depart\", \"deregulation\", \"destination\", \"detected\", \"detected\", \"dfw\", \"document\", \"document\", \"document\", \"document\", \"document\", \"dperlin@enron.com\", \"draft\", \"draft\", \"draft\", \"draft\", \"e\", \"e\", \"e\", \"e\", \"e\", \"e-mail\", \"e-mail\", \"e-mail\", \"e-mail\", \"e-mail\", \"earnings\", \"eat\", \"edmund\", \"eel\", \"eesi\", \"electric\", \"electric\", \"electricity\", \"electricity\", \"email\", \"email\", \"email\", \"email\", \"email\", \"ena\", \"ena\", \"ena\", \"ena\", \"energy\", \"energy\", \"energy\", \"energy\", \"energy\", \"enforceable\", \"engine\", \"engine\", \"engy_type\", \"enron\", \"enron\", \"enron\", \"enron\", \"enron\", \"enron.messaging.administration@enron.com\", \"enron=01,s\", \"enron=01,s\", \"enrononline\", \"enrononline\", \"enw\", \"eol\", \"eol\", \"eol\", \"epmi\", \"error\", \"error\", \"error\", \"error\", \"error\", \"esmtp\", \"estoppel\", \"evelyn\", \"evelyn\", \"ew\", \"ew\", \"ew\", \"exchange\", \"exchange\", \"exchange\", \"exchange\", \"exchange\", \"face=\\\"arial\", \"fantasy\", \"fantasy\", \"fare\", \"fax\", \"fax\", \"fax\", \"fax\", \"fax\", \"featured\", \"ferc\", \"ferc\", \"final\", \"final\", \"final\", \"final\", \"final\", \"firm\", \"firm\", \"firm\", \"firm\", \"firm\", \"fl\", \"fl\", \"flight\", \"flight\", \"folder\", \"folder\", \"font\", \"font\", \"font\", \"forwarded\", \"forwarded\", \"forwarded\", \"forwarded\", \"forwarded\", \"free\", \"free\", \"free\", \"free\", \"free\", \"future\", \"future\", \"future\", \"future\", \"future\", \"game\", \"game\", \"gas\", \"gas\", \"gas\", \"gas\", \"generation\", \"generation\", \"generation\", \"generation\", \"generator\", \"get\", \"get\", \"get\", \"get\", \"get\", \"getting\", \"getting\", \"getting\", \"getting\", \"getting\", \"gift\", \"gift\", \"glad\", \"glad\", \"global\", \"global\", \"global\", \"global\", \"global\", \"go\", \"go\", \"go\", \"go\", \"go\", \"going\", \"going\", \"going\", \"going\", \"going\", \"good\", \"good\", \"good\", \"good\", \"good\", \"got\", \"got\", \"got\", \"got\", \"governor\", \"governor\", \"group\", \"group\", \"group\", \"group\", \"group\", \"gtc's\", \"guess\", \"guess\", \"guy\", \"guy\", \"guy\", \"hang\", \"height=\\\"1\", \"hell\", \"helvetica\", \"hereby\", \"hereto\", \"hey\", \"hey\", \"hilton\", \"hope\", \"hope\", \"hope\", \"hope\", \"hope\", \"hotel\", \"hotel\", \"hotel\", \"hourahead\", \"hourahead\", \"hourahead\", \"houston\", \"houston\", \"houston\", \"houston\", \"houston\", \"how's\", \"i'd\", \"i'd\", \"i'll\", \"i'll\", \"i'm\", \"i'm\", \"i'm\", \"i'm\", \"i've\", \"i've\", \"i've\", \"id\", \"id\", \"id\", \"id\", \"il\", \"il\", \"image\", \"image\", \"img\", \"industry\", \"industry\", \"industry\", \"industry\", \"industry\", \"information\", \"information\", \"information\", \"information\", \"information\", \"initialize\", \"insufficient\", \"insufficient\", \"intended\", \"intended\", \"intended\", \"intended\", \"intended\", \"interchg_id\", \"internet\", \"internet\", \"internet\", \"internet\", \"internet\", \"investigation\", \"isda\", \"isda\", \"isda\", \"iso\", \"issue\", \"issue\", \"issue\", \"issue\", \"issue\", \"j\", \"j\", \"j\", \"j\", \"j\", \"john\", \"john\", \"john\", \"john\", \"john\", \"kate\", \"kate\", \"kate.symes@enron.com\", \"kay\", \"kay\", \"kerri\", \"know\", \"know\", \"know\", \"know\", \"know\", \"lately\", \"legal\", \"legal\", \"legal\", \"legal\", \"legal\", \"legislation\", \"leslie\", \"leslie\", \"leslie\", \"leslie\", \"let\", \"let\", \"let\", \"let\", \"let\", \"letter\", \"letter\", \"letter\", \"letter\", \"letter\", \"like\", \"like\", \"like\", \"like\", \"like\", \"link\", \"link\", \"link\", \"link\", \"link\", \"log\", \"log\", \"log\", \"long-term\", \"look\", \"look\", \"look\", \"look\", \"look\", \"lot\", \"lot\", \"lot\", \"lot\", \"maggi\", \"make\", \"make\", \"make\", \"make\", \"make\", \"management\", \"management\", \"management\", \"management\", \"management\", \"mann/corp/enron@enron\", \"mann/corp/enron@enron\", \"margin\", \"mark\", \"mark\", \"mark\", \"mark\", \"mark\", \"market\", \"market\", \"market\", \"market\", \"market\", \"mary\", \"mary\", \"mary\", \"mary\", \"master\", \"master\", \"master\", \"master\", \"may\", \"may\", \"may\", \"may\", \"may\", \"maybe\", \"maybe\", \"meeting\", \"meeting\", \"meeting\", \"meeting\", \"meeting\", \"message\", \"message\", \"message\", \"message\", \"message\", \"metal\", \"metal\", \"metal\", \"metal\", \"metoyer@enron\", \"miami\", \"mid\", \"mid\", \"million\", \"million\", \"million\", \"mkt_type\", \"mmbtu/d\", \"mom\", \"mom\", \"month\", \"month\", \"month\", \"month\", \"month\", \"natural\", \"natural\", \"natural\", \"natural\", \"natural\", \"need\", \"need\", \"need\", \"need\", \"need\", \"new\", \"new\", \"new\", \"new\", \"new\", \"news\", \"news\", \"news\", \"newsletter\", \"newsletter\", \"newsletter\", \"newsletter\", \"nice\", \"nice\", \"nymex\", \"nymex\", \"nymex\", \"o:\\\\portland\\\\westdesk\\\\california\", \"o:\\\\portland\\\\westdesk\\\\california\", \"o:\\\\portland\\\\westdesk\\\\california\", \"occurred\", \"occurred\", \"offer\", \"offer\", \"offer\", \"offer\", \"offer\", \"oil\", \"oil\", \"oil\", \"one\", \"one\", \"one\", \"one\", \"one\", \"online\", \"online\", \"online\", \"online\", \"online\", \"organizational\", \"organizational\", \"original\", \"original\", \"original\", \"original\", \"original\", \"origination\", \"origination\", \"origination\", \"outage\", \"outage\", \"pager\", \"pager\", \"pager\", \"parsing\", \"parsing\", \"parsing\", \"perlingiere\", \"pget\", \"phone\", \"phone\", \"phone\", \"phone\", \"phone\", \"pipeline\", \"pipeline\", \"pipeline\", \"pjm\", \"plant\", \"plant\", \"plant\", \"plant\", \"please\", \"please\", \"please\", \"please\", \"please\", \"power\", \"power\", \"power\", \"power\", \"power\", \"prebon\", \"prebon\", \"pretty\", \"pretty\", \"price\", \"price\", \"price\", \"price\", \"price\", \"privileged\", \"probably\", \"probably\", \"probably\", \"probably\", \"probably\", \"process\", \"process\", \"process\", \"process\", \"process\", \"product\", \"product\", \"product\", \"product\", \"product\", \"profit\", \"profit\", \"pst\", \"pst\", \"pwx\", \"qb\", \"rate\", \"rate\", \"rate\", \"rate\", \"rate\", \"rb\", \"really\", \"really\", \"really\", \"really\", \"receive\", \"receive\", \"receive\", \"receive\", \"receive\", \"recipient\", \"recipient\", \"recipient\", \"regulation\", \"regulator\", \"rental\", \"rental\", \"report\", \"report\", \"report\", \"report\", \"report\", \"republican\", \"request\", \"request\", \"request\", \"request\", \"request\", \"reservation\", \"reservation\", \"reservation\", \"reservation\", \"revenue\", \"revenue\", \"revenue\", \"review\", \"review\", \"review\", \"review\", \"review\", \"richard\", \"richard\", \"richard\", \"richard\", \"richard\", \"risk\", \"risk\", \"risk\", \"risk\", \"risk\", \"roundtrip\", \"said\", \"said\", \"said\", \"said\", \"sanders/hou/ect@ect\", \"sans-serif\", \"sara\", \"sara\", \"sara\", \"sara\", \"sara\", \"sara.shackleton@enron.com\", \"sara.shackleton@enron.com\", \"sc_id\", \"schedule\", \"schedule\", \"schedule\", \"schedule\", \"schedule\", \"scheduling\\\\iso\", \"scheduling\\\\iso\", \"scheduling\\\\iso\", \"see\", \"see\", \"see\", \"see\", \"see\", \"semperger\", \"senate\", \"sender\", \"sender\", \"service\", \"service\", \"service\", \"service\", \"service\", \"shackleton\", \"shackleton\", \"shackleton/hou/ect@ect\", \"shall\", \"shall\", \"shall\", \"shall\", \"shall\", \"shareholder\", \"sheila\", \"sheila\", \"sheila\", \"sheraton\", \"sick\", \"site\", \"site\", \"site\", \"site\", \"site\", \"smith\", \"smith\", \"smith\", \"smith\", \"smith\", \"something\", \"something\", \"something\", \"something\", \"something\", \"special\", \"special\", \"special\", \"special\", \"special\", \"state\", \"state\", \"state\", \"state\", \"state\", \"still\", \"still\", \"still\", \"still\", \"still\", \"stock\", \"stock\", \"stock\", \"subscriber\", \"subscriber\", \"subscription\", \"subscription\", \"supply\", \"supply\", \"supply\", \"supply\", \"sure\", \"sure\", \"sure\", \"sure\", \"sure\", \"susan\", \"susan\", \"susan\", \"susan\", \"susan\", \"swerzbin\", \"swerzbin\", \"symes\", \"symes/pdx/ect@ect\", \"synchronizing\", \"system\", \"system\", \"system\", \"system\", \"system\", \"table\", \"table\", \"table\", \"table\", \"talk\", \"talk\", \"talk\", \"talk\", \"talk\", \"tanya\", \"tariff\", \"tariff\", \"taylor/hou/ect@ect\", \"taylor/hou/ect@ect\", \"td\", \"td\", \"td>&nbsp;</td\", \"team\", \"team\", \"team\", \"team\", \"team\", \"temptation\", \"thanks\", \"thanks\", \"thanks\", \"thanks\", \"thing\", \"thing\", \"thing\", \"thing\", \"thing\", \"think\", \"think\", \"think\", \"think\", \"think\", \"thinking\", \"thinking\", \"thinking\", \"thompson@enron\", \"thought\", \"thought\", \"thought\", \"thought\", \"thought\", \"thru\", \"thru\", \"thru\", \"thru\", \"tie_point\", \"time\", \"time\", \"time\", \"time\", \"time\", \"to/from\", \"tonight\", \"tonight\", \"tr\", \"tr><td\", \"trade\", \"trade\", \"trade\", \"trade\", \"trade\", \"trademark\", \"trading\", \"trading\", \"trading\", \"trading\", \"trans_date\", \"trans_type\", \"transaction\", \"transaction\", \"transaction\", \"transaction\", \"transaction\", \"transmission\", \"transmission\", \"transmission\", \"travel\", \"travel\", \"travel\", \"traveler\", \"travelocity\", \"tx\", \"tx\", \"tx\", \"tx\", \"u\", \"u\", \"u\", \"u\", \"u\", \"unsubscribe\", \"unsubscribe\", \"usa\", \"usa\", \"usa\", \"utility\", \"valign=\\\"top\", \"veronica\", \"visit\", \"visit\", \"visit\", \"visit\", \"visit\", \"want\", \"want\", \"want\", \"want\", \"want\", \"wanted\", \"wanted\", \"wanted\", \"wanted\", \"wanted\", \"way\", \"way\", \"way\", \"way\", \"way\", \"web\", \"web\", \"web\", \"web\", \"web\", \"wedding\", \"week\", \"week\", \"week\", \"week\", \"week\", \"well\", \"well\", \"well\", \"well\", \"well\", \"went\", \"went\", \"went\", \"wesco\", \"wesco\", \"wharton\", \"width=\\\"1\", \"width=\\\"100\", \"wife\", \"wife\", \"work\", \"work\", \"work\", \"work\", \"work\", \"would\", \"would\", \"would\", \"would\", \"would\", \"wr\", \"x\", \"x\", \"x\", \"year\", \"year\", \"year\", \"year\", \"year\"]}, \"R\": 30, \"lambda.step\": 0.01, \"plot.opts\": {\"xlab\": \"PC1\", \"ylab\": \"PC2\"}, \"topic.order\": [1, 2, 3, 4, 5]};\n",
       "\n",
       "function LDAvis_load_lib(url, callback){\n",
       "  var s = document.createElement('script');\n",
       "  s.src = url;\n",
       "  s.async = true;\n",
       "  s.onreadystatechange = s.onload = callback;\n",
       "  s.onerror = function(){console.warn(\"failed to load library \" + url);};\n",
       "  document.getElementsByTagName(\"head\")[0].appendChild(s);\n",
       "}\n",
       "\n",
       "if(typeof(LDAvis) !== \"undefined\"){\n",
       "   // already loaded: just create the visualization\n",
       "   !function(LDAvis){\n",
       "       new LDAvis(\"#\" + \"ldavis_el407321404655050128649997862092\", ldavis_el407321404655050128649997862092_data);\n",
       "   }(LDAvis);\n",
       "}else if(typeof define === \"function\" && define.amd){\n",
       "   // require.js is available: use it to load d3/LDAvis\n",
       "   require.config({paths: {d3: \"https://cdnjs.cloudflare.com/ajax/libs/d3/3.5.5/d3.min\"}});\n",
       "   require([\"d3\"], function(d3){\n",
       "      window.d3 = d3;\n",
       "      LDAvis_load_lib(\"https://cdn.rawgit.com/bmabey/pyLDAvis/files/ldavis.v1.0.0.js\", function(){\n",
       "        new LDAvis(\"#\" + \"ldavis_el407321404655050128649997862092\", ldavis_el407321404655050128649997862092_data);\n",
       "      });\n",
       "    });\n",
       "}else{\n",
       "    // require.js not available: dynamically load d3 & LDAvis\n",
       "    LDAvis_load_lib(\"https://cdnjs.cloudflare.com/ajax/libs/d3/3.5.5/d3.min.js\", function(){\n",
       "         LDAvis_load_lib(\"https://cdn.rawgit.com/bmabey/pyLDAvis/files/ldavis.v1.0.0.js\", function(){\n",
       "                 new LDAvis(\"#\" + \"ldavis_el407321404655050128649997862092\", ldavis_el407321404655050128649997862092_data);\n",
       "            })\n",
       "         });\n",
       "}\n",
       "</script>"
      ],
      "text/plain": [
       "<IPython.core.display.HTML object>"
      ]
     },
     "execution_count": 106,
     "metadata": {},
     "output_type": "execute_result"
    }
   ],
   "source": [
    "# Interactive display of the model\n",
    "pyLDAvis.display(lda_display) "
   ]
  },
  {
   "cell_type": "code",
   "execution_count": 121,
   "metadata": {},
   "outputs": [
    {
     "data": {
      "image/png": "[encoded data removed]",
      "text/plain": [
       "<IPython.core.display.Image object>"
      ]
     },
     "metadata": {},
     "output_type": "display_data"
    }
   ],
   "source": [
    "from IPython.display import Image, display\n",
    "display(Image(filename='img/lda.png', embed=True))"
   ]
  },
  {
   "cell_type": "markdown",
   "metadata": {},
   "source": [
    "From the visual inspection of the model results, it is not clear which topic is refering to fraudulent emails. More analysis is needed. "
   ]
  },
  {
   "cell_type": "markdown",
   "metadata": {},
   "source": [
    "### Get dominant topic for each email"
   ]
  },
  {
   "cell_type": "markdown",
   "metadata": {},
   "source": [
    "##### Define function to get topic details from lda model results"
   ]
  },
  {
   "cell_type": "code",
   "execution_count": 107,
   "metadata": {},
   "outputs": [],
   "source": [
    "def get_topic_details(ldamodel, corpus):\n",
    "    topic_details_df = pd.DataFrame()\n",
    "    for i, row in enumerate(ldamodel[corpus]):\n",
    "        row = sorted(row, key=lambda x: (x[1]), reverse=True)\n",
    "        for j, (topic_num, prop_topic) in enumerate(row):\n",
    "            if j == 0:  # => dominant topic\n",
    "                wp = ldamodel.show_topic(topic_num)\n",
    "                topic_details_df = topic_details_df.append(pd.Series([topic_num+1, prop_topic]), ignore_index=True)\n",
    "    topic_details_df.columns = ['Dominant_Topic', '% Score']\n",
    "    return topic_details_df"
   ]
  },
  {
   "cell_type": "code",
   "execution_count": 108,
   "metadata": {},
   "outputs": [],
   "source": [
    "# Run get_topic_details function and check the results\n",
    "topic_details_df = get_topic_details(ldamodel, corpus)"
   ]
  },
  {
   "cell_type": "code",
   "execution_count": 109,
   "metadata": {},
   "outputs": [
    {
     "data": {
      "text/html": [
       "<div>\n",
       "<style scoped>\n",
       "    .dataframe tbody tr th:only-of-type {\n",
       "        vertical-align: middle;\n",
       "    }\n",
       "\n",
       "    .dataframe tbody tr th {\n",
       "        vertical-align: top;\n",
       "    }\n",
       "\n",
       "    .dataframe thead th {\n",
       "        text-align: right;\n",
       "    }\n",
       "</style>\n",
       "<table border=\"1\" class=\"dataframe\">\n",
       "  <thead>\n",
       "    <tr style=\"text-align: right;\">\n",
       "      <th></th>\n",
       "      <th>Dominant_Topic</th>\n",
       "      <th>% Score</th>\n",
       "    </tr>\n",
       "  </thead>\n",
       "  <tbody>\n",
       "    <tr>\n",
       "      <th>17725</th>\n",
       "      <td>1.0</td>\n",
       "      <td>0.527888</td>\n",
       "    </tr>\n",
       "    <tr>\n",
       "      <th>17726</th>\n",
       "      <td>2.0</td>\n",
       "      <td>0.706835</td>\n",
       "    </tr>\n",
       "    <tr>\n",
       "      <th>17727</th>\n",
       "      <td>5.0</td>\n",
       "      <td>0.608964</td>\n",
       "    </tr>\n",
       "    <tr>\n",
       "      <th>17728</th>\n",
       "      <td>5.0</td>\n",
       "      <td>0.722523</td>\n",
       "    </tr>\n",
       "    <tr>\n",
       "      <th>17729</th>\n",
       "      <td>5.0</td>\n",
       "      <td>0.683460</td>\n",
       "    </tr>\n",
       "  </tbody>\n",
       "</table>\n",
       "</div>"
      ],
      "text/plain": [
       "       Dominant_Topic   % Score\n",
       "17725             1.0  0.527888\n",
       "17726             2.0  0.706835\n",
       "17727             5.0  0.608964\n",
       "17728             5.0  0.722523\n",
       "17729             5.0  0.683460"
      ]
     },
     "execution_count": 109,
     "metadata": {},
     "output_type": "execute_result"
    }
   ],
   "source": [
    "topic_details_df.tail()"
   ]
  },
  {
   "cell_type": "code",
   "execution_count": 110,
   "metadata": {},
   "outputs": [
    {
     "data": {
      "text/html": [
       "<div>\n",
       "<style scoped>\n",
       "    .dataframe tbody tr th:only-of-type {\n",
       "        vertical-align: middle;\n",
       "    }\n",
       "\n",
       "    .dataframe tbody tr th {\n",
       "        vertical-align: top;\n",
       "    }\n",
       "\n",
       "    .dataframe thead th {\n",
       "        text-align: right;\n",
       "    }\n",
       "</style>\n",
       "<table border=\"1\" class=\"dataframe\">\n",
       "  <thead>\n",
       "    <tr style=\"text-align: right;\">\n",
       "      <th></th>\n",
       "      <th>Dominant_Topic</th>\n",
       "      <th>% Score</th>\n",
       "    </tr>\n",
       "  </thead>\n",
       "  <tbody>\n",
       "    <tr>\n",
       "      <th>count</th>\n",
       "      <td>17730.000000</td>\n",
       "      <td>17730.000000</td>\n",
       "    </tr>\n",
       "    <tr>\n",
       "      <th>mean</th>\n",
       "      <td>3.154822</td>\n",
       "      <td>0.678588</td>\n",
       "    </tr>\n",
       "    <tr>\n",
       "      <th>std</th>\n",
       "      <td>1.568559</td>\n",
       "      <td>0.188493</td>\n",
       "    </tr>\n",
       "    <tr>\n",
       "      <th>min</th>\n",
       "      <td>1.000000</td>\n",
       "      <td>0.200000</td>\n",
       "    </tr>\n",
       "    <tr>\n",
       "      <th>25%</th>\n",
       "      <td>2.000000</td>\n",
       "      <td>0.525706</td>\n",
       "    </tr>\n",
       "    <tr>\n",
       "      <th>50%</th>\n",
       "      <td>3.000000</td>\n",
       "      <td>0.667508</td>\n",
       "    </tr>\n",
       "    <tr>\n",
       "      <th>75%</th>\n",
       "      <td>5.000000</td>\n",
       "      <td>0.839277</td>\n",
       "    </tr>\n",
       "    <tr>\n",
       "      <th>max</th>\n",
       "      <td>5.000000</td>\n",
       "      <td>0.999564</td>\n",
       "    </tr>\n",
       "  </tbody>\n",
       "</table>\n",
       "</div>"
      ],
      "text/plain": [
       "       Dominant_Topic       % Score\n",
       "count    17730.000000  17730.000000\n",
       "mean         3.154822      0.678588\n",
       "std          1.568559      0.188493\n",
       "min          1.000000      0.200000\n",
       "25%          2.000000      0.525706\n",
       "50%          3.000000      0.667508\n",
       "75%          5.000000      0.839277\n",
       "max          5.000000      0.999564"
      ]
     },
     "execution_count": 110,
     "metadata": {},
     "output_type": "execute_result"
    }
   ],
   "source": [
    "topic_details_df.describe()"
   ]
  },
  {
   "cell_type": "markdown",
   "metadata": {},
   "source": [
    " "
   ]
  },
  {
   "cell_type": "markdown",
   "metadata": {},
   "source": [
    "### Merged topic details with original text data\n",
    "\n",
    "Concatenate column-wise the results from the previously defined function `get_topic_details()` to the original text data contained under `contents` and inspect the results."
   ]
  },
  {
   "cell_type": "code",
   "execution_count": 111,
   "metadata": {},
   "outputs": [],
   "source": [
    "# Add original text to topic details in a dataframe\n",
    "contents = pd.DataFrame({'original_text': text_clean})\n",
    "topic_details = pd.concat([topic_details_df, contents], axis=1)"
   ]
  },
  {
   "cell_type": "code",
   "execution_count": 112,
   "metadata": {},
   "outputs": [
    {
     "data": {
      "text/html": [
       "<div>\n",
       "<style scoped>\n",
       "    .dataframe tbody tr th:only-of-type {\n",
       "        vertical-align: middle;\n",
       "    }\n",
       "\n",
       "    .dataframe tbody tr th {\n",
       "        vertical-align: top;\n",
       "    }\n",
       "\n",
       "    .dataframe thead th {\n",
       "        text-align: right;\n",
       "    }\n",
       "</style>\n",
       "<table border=\"1\" class=\"dataframe\">\n",
       "  <thead>\n",
       "    <tr style=\"text-align: right;\">\n",
       "      <th></th>\n",
       "      <th>Dominant_Topic</th>\n",
       "      <th>% Score</th>\n",
       "      <th>original_text</th>\n",
       "    </tr>\n",
       "  </thead>\n",
       "  <tbody>\n",
       "    <tr>\n",
       "      <th>11332</th>\n",
       "      <td>1.0</td>\n",
       "      <td>0.999564</td>\n",
       "      <td>[start, date, 4/19/01, hourahead, hour, ancill...</td>\n",
       "    </tr>\n",
       "    <tr>\n",
       "      <th>4807</th>\n",
       "      <td>4.0</td>\n",
       "      <td>0.999447</td>\n",
       "      <td>[southwest, airline, e-mail, update, february,...</td>\n",
       "    </tr>\n",
       "    <tr>\n",
       "      <th>8233</th>\n",
       "      <td>4.0</td>\n",
       "      <td>0.999391</td>\n",
       "      <td>[onepass, member, co.o.l, travel, special, dom...</td>\n",
       "    </tr>\n",
       "    <tr>\n",
       "      <th>13892</th>\n",
       "      <td>4.0</td>\n",
       "      <td>0.999388</td>\n",
       "      <td>[dear, susan, scott, today's, american, airlin...</td>\n",
       "    </tr>\n",
       "    <tr>\n",
       "      <th>8211</th>\n",
       "      <td>4.0</td>\n",
       "      <td>0.999341</td>\n",
       "      <td>[onepass, member, co.o.l, travel, special, dom...</td>\n",
       "    </tr>\n",
       "  </tbody>\n",
       "</table>\n",
       "</div>"
      ],
      "text/plain": [
       "       Dominant_Topic   % Score  \\\n",
       "11332             1.0  0.999564   \n",
       "4807              4.0  0.999447   \n",
       "8233              4.0  0.999391   \n",
       "13892             4.0  0.999388   \n",
       "8211              4.0  0.999341   \n",
       "\n",
       "                                           original_text  \n",
       "11332  [start, date, 4/19/01, hourahead, hour, ancill...  \n",
       "4807   [southwest, airline, e-mail, update, february,...  \n",
       "8233   [onepass, member, co.o.l, travel, special, dom...  \n",
       "13892  [dear, susan, scott, today's, american, airlin...  \n",
       "8211   [onepass, member, co.o.l, travel, special, dom...  "
      ]
     },
     "execution_count": 112,
     "metadata": {},
     "output_type": "execute_result"
    }
   ],
   "source": [
    "topic_details.sort_values(by=['% Score'], ascending=False).head(10).head()"
   ]
  },
  {
   "cell_type": "code",
   "execution_count": 113,
   "metadata": {},
   "outputs": [
    {
     "data": {
      "text/html": [
       "<div>\n",
       "<style scoped>\n",
       "    .dataframe tbody tr th:only-of-type {\n",
       "        vertical-align: middle;\n",
       "    }\n",
       "\n",
       "    .dataframe tbody tr th {\n",
       "        vertical-align: top;\n",
       "    }\n",
       "\n",
       "    .dataframe thead th {\n",
       "        text-align: right;\n",
       "    }\n",
       "</style>\n",
       "<table border=\"1\" class=\"dataframe\">\n",
       "  <thead>\n",
       "    <tr style=\"text-align: right;\">\n",
       "      <th></th>\n",
       "      <th>Dominant_Topic</th>\n",
       "      <th>% Score</th>\n",
       "      <th>original_text</th>\n",
       "    </tr>\n",
       "  </thead>\n",
       "  <tbody>\n",
       "    <tr>\n",
       "      <th>13190</th>\n",
       "      <td>4.0</td>\n",
       "      <td>0.999338</td>\n",
       "      <td>[onepass, member, co.o.l, travel, special, dom...</td>\n",
       "    </tr>\n",
       "    <tr>\n",
       "      <th>13949</th>\n",
       "      <td>4.0</td>\n",
       "      <td>0.999338</td>\n",
       "      <td>[dear, susan, scott, today's, american, airlin...</td>\n",
       "    </tr>\n",
       "    <tr>\n",
       "      <th>14554</th>\n",
       "      <td>1.0</td>\n",
       "      <td>0.999315</td>\n",
       "      <td>[revised, notice, 00-408, december, comex, mem...</td>\n",
       "    </tr>\n",
       "    <tr>\n",
       "      <th>6131</th>\n",
       "      <td>1.0</td>\n",
       "      <td>0.999312</td>\n",
       "      <td>[notice, 01-77, march, comex, division, member...</td>\n",
       "    </tr>\n",
       "    <tr>\n",
       "      <th>14258</th>\n",
       "      <td>1.0</td>\n",
       "      <td>0.999304</td>\n",
       "      <td>[notice, 00-372, november, comex, members/memb...</td>\n",
       "    </tr>\n",
       "  </tbody>\n",
       "</table>\n",
       "</div>"
      ],
      "text/plain": [
       "       Dominant_Topic   % Score  \\\n",
       "13190             4.0  0.999338   \n",
       "13949             4.0  0.999338   \n",
       "14554             1.0  0.999315   \n",
       "6131              1.0  0.999312   \n",
       "14258             1.0  0.999304   \n",
       "\n",
       "                                           original_text  \n",
       "13190  [onepass, member, co.o.l, travel, special, dom...  \n",
       "13949  [dear, susan, scott, today's, american, airlin...  \n",
       "14554  [revised, notice, 00-408, december, comex, mem...  \n",
       "6131   [notice, 01-77, march, comex, division, member...  \n",
       "14258  [notice, 00-372, november, comex, members/memb...  "
      ]
     },
     "execution_count": 113,
     "metadata": {},
     "output_type": "execute_result"
    }
   ],
   "source": [
    "topic_details.sort_values(by=['% Score'], ascending=False).head(10).tail()"
   ]
  },
  {
   "cell_type": "code",
   "execution_count": null,
   "metadata": {},
   "outputs": [],
   "source": []
  },
  {
   "cell_type": "markdown",
   "metadata": {},
   "source": [
    "### List the topics associated with the emails mentioning the sell of the stock"
   ]
  },
  {
   "cell_type": "code",
   "execution_count": 114,
   "metadata": {},
   "outputs": [],
   "source": [
    "# Create a list of terms to search for\n",
    "searchfor = ['enron stock', 'sell stock', 'stock bonus', 'sell enron stock']\n",
    "\n",
    "# Filter cleaned emails on searchfor list and select the one containing the key words we are interesting in\n",
    "df_keymsg = df[df.clean_content.str.contains('|'.join(searchfor), na=False)]\n"
   ]
  },
  {
   "cell_type": "code",
   "execution_count": 115,
   "metadata": {},
   "outputs": [
    {
     "data": {
      "text/plain": [
       "740      1.0\n",
       "1294     1.0\n",
       "1439     1.0\n",
       "1496     5.0\n",
       "1504     1.0\n",
       "        ... \n",
       "16838    1.0\n",
       "16903    1.0\n",
       "17173    1.0\n",
       "17267    1.0\n",
       "17441    1.0\n",
       "Name: Dominant_Topic, Length: 99, dtype: float64"
      ]
     },
     "execution_count": 115,
     "metadata": {},
     "output_type": "execute_result"
    }
   ],
   "source": [
    "# Get the topics of the emails mentioning the sell\n",
    "key_topics=topic_details[topic_details.index.isin(df_keymsg.index)]\n",
    "key_topics['Dominant_Topic']\n"
   ]
  },
  {
   "cell_type": "code",
   "execution_count": 116,
   "metadata": {},
   "outputs": [
    {
     "data": {
      "text/plain": [
       "<AxesSubplot:ylabel='Frequency'>"
      ]
     },
     "execution_count": 116,
     "metadata": {},
     "output_type": "execute_result"
    },
    {
     "data": {
      "image/png": "[encoded data removed]",
      "text/plain": [
       "<Figure size 432x288 with 1 Axes>"
      ]
     },
     "metadata": {},
     "output_type": "display_data"
    }
   ],
   "source": [
    "key_topics.Dominant_Topic.plot.hist()"
   ]
  },
  {
   "cell_type": "markdown",
   "metadata": {},
   "source": [
    "**We can see that 80% of the emails mentioning the enron stock or the stock bonus are labelled with topic 1.**"
   ]
  },
  {
   "cell_type": "markdown",
   "metadata": {},
   "source": [
    "### Flag all content (= emails) that has a dominent topic corresponding to topic 1\n",
    "\n",
    "Create a flag with the `np.where()` function to flag all content that has topic 1 as a dominant topic with a 1, and 0 otherwise"
   ]
  },
  {
   "cell_type": "code",
   "execution_count": 117,
   "metadata": {},
   "outputs": [],
   "source": [
    "# Create flag for text highest associated with topic 3\n",
    "topic_details['flag'] = np.where((topic_details['Dominant_Topic'] == 1.0), 1, 0)"
   ]
  },
  {
   "cell_type": "code",
   "execution_count": 118,
   "metadata": {},
   "outputs": [
    {
     "name": "stdout",
     "output_type": "stream",
     "text": [
      "Number of emails with dominant topic 1: 2942 \n"
     ]
    }
   ],
   "source": [
    "# Extract all the emails with dopminant topic 1\n",
    "topic_details_1 = topic_details[topic_details.flag == 1]\n",
    "\n",
    "print(f\"Number of emails with dominant topic 1: {topic_details_1.shape[0]} \")"
   ]
  },
  {
   "cell_type": "code",
   "execution_count": 119,
   "metadata": {},
   "outputs": [
    {
     "name": "stdout",
     "output_type": "stream",
     "text": [
      "First 10 emails:\n"
     ]
    },
    {
     "data": {
      "text/html": [
       "<div>\n",
       "<style scoped>\n",
       "    .dataframe tbody tr th:only-of-type {\n",
       "        vertical-align: middle;\n",
       "    }\n",
       "\n",
       "    .dataframe tbody tr th {\n",
       "        vertical-align: top;\n",
       "    }\n",
       "\n",
       "    .dataframe thead th {\n",
       "        text-align: right;\n",
       "    }\n",
       "</style>\n",
       "<table border=\"1\" class=\"dataframe\">\n",
       "  <thead>\n",
       "    <tr style=\"text-align: right;\">\n",
       "      <th></th>\n",
       "      <th>Dominant_Topic</th>\n",
       "      <th>% Score</th>\n",
       "      <th>original_text</th>\n",
       "      <th>flag</th>\n",
       "    </tr>\n",
       "  </thead>\n",
       "  <tbody>\n",
       "    <tr>\n",
       "      <th>11332</th>\n",
       "      <td>1.0</td>\n",
       "      <td>0.999564</td>\n",
       "      <td>[start, date, 4/19/01, hourahead, hour, ancill...</td>\n",
       "      <td>1</td>\n",
       "    </tr>\n",
       "    <tr>\n",
       "      <th>14554</th>\n",
       "      <td>1.0</td>\n",
       "      <td>0.999315</td>\n",
       "      <td>[revised, notice, 00-408, december, comex, mem...</td>\n",
       "      <td>1</td>\n",
       "    </tr>\n",
       "    <tr>\n",
       "      <th>6131</th>\n",
       "      <td>1.0</td>\n",
       "      <td>0.999312</td>\n",
       "      <td>[notice, 01-77, march, comex, division, member...</td>\n",
       "      <td>1</td>\n",
       "    </tr>\n",
       "    <tr>\n",
       "      <th>14258</th>\n",
       "      <td>1.0</td>\n",
       "      <td>0.999304</td>\n",
       "      <td>[notice, 00-372, november, comex, members/memb...</td>\n",
       "      <td>1</td>\n",
       "    </tr>\n",
       "    <tr>\n",
       "      <th>5767</th>\n",
       "      <td>1.0</td>\n",
       "      <td>0.999304</td>\n",
       "      <td>[notice, 01-136, april, comex, division, membe...</td>\n",
       "      <td>1</td>\n",
       "    </tr>\n",
       "    <tr>\n",
       "      <th>16395</th>\n",
       "      <td>1.0</td>\n",
       "      <td>0.999286</td>\n",
       "      <td>[fyi, forwarded, mark, taylor/hou/ect, 12/11/2...</td>\n",
       "      <td>1</td>\n",
       "    </tr>\n",
       "    <tr>\n",
       "      <th>7001</th>\n",
       "      <td>1.0</td>\n",
       "      <td>0.999188</td>\n",
       "      <td>[attached, summary, recent, ferc, activity, pd...</td>\n",
       "      <td>1</td>\n",
       "    </tr>\n",
       "    <tr>\n",
       "      <th>5955</th>\n",
       "      <td>1.0</td>\n",
       "      <td>0.999030</td>\n",
       "      <td>[notice, 00-370, november, nymex, comex, divis...</td>\n",
       "      <td>1</td>\n",
       "    </tr>\n",
       "    <tr>\n",
       "      <th>17632</th>\n",
       "      <td>1.0</td>\n",
       "      <td>0.998875</td>\n",
       "      <td>[california=01,s, power, crisis, generated, he...</td>\n",
       "      <td>1</td>\n",
       "    </tr>\n",
       "    <tr>\n",
       "      <th>14555</th>\n",
       "      <td>1.0</td>\n",
       "      <td>0.998658</td>\n",
       "      <td>[new, york, mercantile, exchange, member, neal...</td>\n",
       "      <td>1</td>\n",
       "    </tr>\n",
       "  </tbody>\n",
       "</table>\n",
       "</div>"
      ],
      "text/plain": [
       "       Dominant_Topic   % Score  \\\n",
       "11332             1.0  0.999564   \n",
       "14554             1.0  0.999315   \n",
       "6131              1.0  0.999312   \n",
       "14258             1.0  0.999304   \n",
       "5767              1.0  0.999304   \n",
       "16395             1.0  0.999286   \n",
       "7001              1.0  0.999188   \n",
       "5955              1.0  0.999030   \n",
       "17632             1.0  0.998875   \n",
       "14555             1.0  0.998658   \n",
       "\n",
       "                                           original_text  flag  \n",
       "11332  [start, date, 4/19/01, hourahead, hour, ancill...     1  \n",
       "14554  [revised, notice, 00-408, december, comex, mem...     1  \n",
       "6131   [notice, 01-77, march, comex, division, member...     1  \n",
       "14258  [notice, 00-372, november, comex, members/memb...     1  \n",
       "5767   [notice, 01-136, april, comex, division, membe...     1  \n",
       "16395  [fyi, forwarded, mark, taylor/hou/ect, 12/11/2...     1  \n",
       "7001   [attached, summary, recent, ferc, activity, pd...     1  \n",
       "5955   [notice, 00-370, november, nymex, comex, divis...     1  \n",
       "17632  [california=01,s, power, crisis, generated, he...     1  \n",
       "14555  [new, york, mercantile, exchange, member, neal...     1  "
      ]
     },
     "execution_count": 119,
     "metadata": {},
     "output_type": "execute_result"
    }
   ],
   "source": [
    "print(\"First 10 emails:\")\n",
    "topic_details_1.sort_values(by=['% Score'], ascending=False).head(10)"
   ]
  },
  {
   "cell_type": "markdown",
   "metadata": {},
   "source": [
    "##### Example of content flagged as suspicious"
   ]
  },
  {
   "cell_type": "code",
   "execution_count": 120,
   "metadata": {},
   "outputs": [
    {
     "data": {
      "text/plain": [
       "'To:  Enron North America Corp.\\n\\nFrom:  Cliff Baxter and Kevin Hannon\\n\\n\\nIn July, as part of the Enron North America (ENA) reorganization, the=20\\nimplementation of several objectives were highlighted as critical to the=20\\ncontinued growth of ENA including: 1) accelerate the development of our=20\\npeople, 2) significantly expand our customer network and associated markets=\\n,=20\\nand 3) accelerate and enhance the information flow between groups, both=20\\nwithin ENA and across Enron. Consistent with these objectives and with the=\\n=20\\ncorporate goal of fostering =01&One Enron=018, we would like to announce th=\\ne=20\\nfollowing organizational changes in the Coverage/Origination Groups and the=\\n=20\\nCommercial Transactions Group within ENA.\\n\\n1) Coverage/Origination:\\n\\nTo ensure a consistent strategy, the free flowing of resources and product=\\n=20\\ntechnology and the appropriate focus in the midstream and downstream=20\\nbusinesses, the following coverage/origination groups will be consolidated=\\n=20\\nunder the leadership of Dave Delainey :\\na) the Eastern and Western U.S. Midstream Coverage/ Origination groups whic=\\nh=20\\nfocus on energy, finance and power development solutions for electric and g=\\nas=20\\nutilities, municipals, co-ops, energy service companies and IPP=01,s;\\nb) the Downstream Coverage/Origination groups which focus on delivering a=\\n=20\\nbroad range of products and services to the heavy industrial customers=20\\nincluding  pulp and paper, chemicals, plastics, refined products, metals an=\\nd=20\\nmining, heavy manufacturing, industrial gases, fertilizers, transportation,=\\n=20\\ntextiles and glass manufacturing the Eastern and Western U.S. Midstream=20\\nCoverage/ Origination groups which focus on energy, finance and industries.\\n\\nDownstream Coverage/Origination\\n\\nAs energy deregulation continues in North America, it is becoming clear tha=\\nt=20\\nthe heavy industrial segment will be an important customer market for both=\\n=20\\nENA and Enron Corp.  Further, it is clear that ENA can significantly expand=\\n=20\\nits industrial customer network and create more innovative industrial=20\\nsolutions by having a group that can deploy all the capabilities of Enron=\\n=20\\nCorp.  Against this backdrop, the Downstream Coverage/Origination function=\\n=20\\nwill expand its product offering to include not only ENA=01,s existing ener=\\ngy=20\\ncommodities, energy services, finance, assets and pulp and paper capabiliti=\\nes=20\\nbut also EES=01,s energy outsourcing capability and Global Fuel=01,s chemic=\\nals,=20\\nplastics and refined products risk management capability.  These additional=\\n=20\\ncapabilities will be offered in conjunction with EES and the Global Fuels=\\n=20\\ngroups. Given the size and importance of this Enron initiative, Greg Piper=\\n=20\\nwill be returning from Portland to manage this business. Under Greg=01,s=20\\nleadership, the Downstream Origination effort will be segmented into three=\\n=20\\nsub-groups given the nature of these industries and our product offering:\\na) Pulp and Paper =01) Edward Ondarza will continue to manage the coverage=\\n=20\\nactivities in the Pulp and Paper business. This group will be responsible f=\\nor=20\\nthe provision of innovative=20\\nproducts and services in the pulp and paper industry including the provisio=\\nn=20\\nof paper risk management products;\\nb) Chemicals, Plastics and Refined Products =01) We have asked Jim Ajello t=\\no=20\\nlead the coverage activities in this business.  This group will be=20\\nresponsible for the provision of innovative products and services in the=20\\nchemicals and refined products industries;\\nc) Non-Integrated Industrials =01) Bruce Garner, formerly leader of Bankers=\\n=20\\nTrust=01,s global metals and mining group in London, has joined ENA to lead=\\n the=20\\ncoverage activities in this business.  This group will be responsible for t=\\nhe=20\\nprovision of innovative products and services for the metals and mining,=20\\nheavy manufacturing, industrial gases, fertilizers, transportation, textile=\\ns=20\\nand glass manufacturing industries.\\n\\n\\n\\n\\nMidstream Coverage/Origination\\n\\na) Eastern Coverage/Origination =01) This group=01, activities will focus o=\\nn=20\\nenergy, finance and power development solutions for electric and gas=20\\nutilities, municipals, co-ops and energy service companies in the Eastern=\\n=20\\nInterconnect. We have asked  Janet Dietrich to assume the leadership of thi=\\ns=20\\ngroup;\\nb) Western Coverage/Origination =01) This group=01,s activities will focus =\\non=20\\nenergy, finance and power development solutions for electric and gas=20\\nutilities, municipals, co-ops and energy service companies in the WSCC. The=\\ny=20\\nwill also continue to manage all Qualified Facilities (QF) restructuring=20\\nopportunities in the Western U.S.  We have asked Chris Calger to assume the=\\n=20\\nleadership of this coverage group. Chris will relocate to Portland from=20\\nCalgary where he currently leads the Canadian downstream origination effort=\\ns;\\nc) IPP Merchant Coverage/Origination =01) This group=01,s activities will f=\\nocus on=20\\nthe provision of structured energy, finance and asset solutions for the=20\\nemerging merchant power generators who control large portfolio=01,s of merc=\\nhant=20\\npower generation either through development or acquisition. We have asked =\\n=20\\nMike Miller to assume the leadership of this group.  In addition, Mike will=\\n=20\\ncontinue to manage the power development activities in the Eastern=20\\nInterconnect;\\nd) Eastern QF Restructuring =01) This group will focus on the QF restructur=\\ning=20\\nopportunities in the Eastern Interconnect including the existing=20\\nrestructuring and re-capitalization of the East Coast Power assets.  We hav=\\ne=20\\nasked Dave Duran to assume the leadership of this business. Greg Blair,=20\\nformerly of Enron Asia=01,s development group, Doug Clifford, formerly of=\\n=20\\nCitizens power, and Dick Lydecker, formerly of Cogen Technology, will join=\\n=20\\nthis newly formed business.\\n\\n2) Commercial Transactions:=20\\n\\nThe Commercial Transactions Group (CTG), co-headed by Ray Bowen and Jeff=20\\nDonahue, was formed to provide a centralized resource for the execution of=\\n=20\\ntransactions within ENA =01) and thereby, improve ENA=01,s efficiency in ex=\\necuting=20\\ntransactions and free-up the origination groups to increase their intensity=\\n=20\\nof client coverage.  CTG consists of six primary functions: Transaction=20\\nDevelopment, Capital Structuring and Portfolio Management, Commodity=20\\nStructuring and Transportation, Transactional Support/Accounting, Technical=\\n=20\\nAnalysis and Upstream Asset Management.\\n\\nThe Transaction Development Group will be responsible for deal leadership,=\\n=20\\nexecution and optimization of all aspects of a transaction in conjunction=\\n=20\\nwith the originator. The function will be divided into four teams, each of=\\n=20\\nwhich will be dedicated to between two and four origination groups.  This=\\n=20\\ndedication to specific groups should provide a closer link, better service=\\n=20\\nand greater accountability with the origination groups; however, the CTG=20\\nresources are designed to be a fungible and flexible resource allocated to=\\n=20\\nthe highest value transactions across the coverage functions:\\n\\na) Midstream Transaction Development will be dedicated to the Eastern and=\\n=20\\nWestern Coverage/Origination Groups.  The senior members of this group=20\\ninclude Billy Lemmons, George McCormick, Erin Norris and Russ Porter. Billy=\\n=20\\nLemmons joined Enron in 1992.  Most recently, he was the Vice-President of=\\n=20\\nCapital Structuring and Risk Management for EES. Russ Porter joins us today=\\n=20\\nfrom Dynegy where he was a manager with responsibilities for power=20\\norigination.\\nb) Downstream Transaction Development will be dedicated to ENA=01,s industr=\\nial=20\\norigination efforts in Pulp and Paper, Petrochemicals and Refining,=20\\nEnvironmental Energy, Metals and Mining and other industries as coverage is=\\n=20\\nestablished.  The senior members of this team include Rodney Malcolm, Jay=\\n=20\\nBoudreaux, Finley Biggerstaff and Chris Helfrich.  We anticipate announcing=\\n=20\\ntwo to four more additions to this team within the next few weeks.\\nc) Generation Transaction Development will be dedicated to the IPP Merchant=\\n=20\\nServices and power plant development and QF Restructuring groups.  The seni=\\nor=20\\nmembers of this team include Thomas Suffield, Andy Kelemen, Kelly Mahmoud a=\\nnd=20\\nJohn House. Thomas Suffield joined Enron in 1996. Most recently, he was the=\\n=20\\nVice-President of Origination for the Latin American group in Azurix.  We=\\n=20\\nanticipate announcing two more additions to this team within the next few=\\n=20\\nweeks.\\nd) Upstream Transaction Development will be dedicated to the Producer=20\\nFinance, Coal and Gas Assets groups.  The senior members of this team inclu=\\nde=20\\nBrad Dunn, John Curtin and Chris Hilgert.  We hope to announce the addition=\\n=20\\nof at least one VP to this group prior to yearend.\\n\\nRay Bowen will have primary oversight responsibilities for the Upstream and=\\n=20\\nDownstream Transaction Development teams with Jeff Donahue having primary=\\n=20\\nresponsibilities for the Midstream and Generation teams.  Andrea Reed will=\\n=20\\ncontinue to head Capital Structuring and Portfolio Management: all junior=\\n=20\\ncommercial resources within the Transaction Development teams will have dua=\\nl=20\\nresponsibilities to both their Transaction Development teams and to the=20\\nCapital Structuring Group.  The remaining four groups within CTG will remai=\\nn=20\\nlargely unchanged.  In addition, the Origination and the Transaction=20\\nDevelopment teams and their respective origination groups will be located=\\n=20\\ntogether.\\n\\nWe believe that these changes will significantly enhance our market coverag=\\ne=20\\nand industry knowledge in all ENA=01,s markets particularly in the industri=\\nal=20\\nmarkets. It will also provide a closer partnership and accountability betwe=\\nen=20\\nthe Coverage/Origination Groups and the CTG Groups.=20\\n\\nPlease help us in continuing to build on the success we have enjoyed in Nor=\\nth=20\\nAmerica by working with us to implement these changes.'"
      ]
     },
     "execution_count": 120,
     "metadata": {},
     "output_type": "execute_result"
    }
   ],
   "source": [
    "df.loc[6584,'content']"
   ]
  },
  {
   "cell_type": "code",
   "execution_count": null,
   "metadata": {},
   "outputs": [],
   "source": []
  }
 ],
 "metadata": {
  "kernelspec": {
   "display_name": "Python [conda env:ML_projects] *",
   "language": "python",
   "name": "conda-env-ML_projects-py"
  },
  "language_info": {
   "codemirror_mode": {
    "name": "ipython",
    "version": 3
   },
   "file_extension": ".py",
   "mimetype": "text/x-python",
   "name": "python",
   "nbconvert_exporter": "python",
   "pygments_lexer": "ipython3",
   "version": "3.8.5"
  }
 },
 "nbformat": 4,
 "nbformat_minor": 4
}
